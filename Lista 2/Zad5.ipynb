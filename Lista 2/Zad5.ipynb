{
 "cells": [
  {
   "cell_type": "markdown",
   "metadata": {},
   "source": [
    "# Lokaty terminowe z uwzględnieniem podatku"
   ]
  },
  {
   "cell_type": "markdown",
   "metadata": {},
   "source": [
    "$K_{n}=K_{0}\\cdot\\left(1+\\left(1-\\dfrac{p}{100}\\right)\\cdot\\dfrac{r}{100\\cdot m}\\right)^{n\\cdot m}$\n",
    "\n",
    "$K_{0}$ - kapitał początkowy\n",
    "\n",
    "$r$ - oprocentowanie\n",
    "\n",
    "$m$ - ilość okresów kapitalizacji\n",
    "\n",
    "$n$ - ilość lat\n",
    "\n",
    "$p$ - $\\%$ odporowadzonego podatku"
   ]
  },
  {
   "cell_type": "code",
   "execution_count": 2,
   "metadata": {},
   "outputs": [],
   "source": [
    "def KwotaPoLokacie(K0, r, m, n, opodatkowanie = 19):\n",
    "    kwota_po_lokacie = K0 * ( (1 + (1-opodatkowanie/(100))*(r)/(100*m)))**( m*n ) - K0\n",
    "\n",
    "    zysk = int(kwota_po_lokacie * 100)/100\n",
    "\n",
    "    return zysk\n",
    "    "
   ]
  },
  {
   "cell_type": "code",
   "execution_count": 7,
   "metadata": {},
   "outputs": [
    {
     "name": "stdout",
     "output_type": "stream",
     "text": [
      "Zysk z lokaty wynosi:  37.78  zł.\n"
     ]
    }
   ],
   "source": [
    "zysk = KwotaPoLokacie(1000, 2.3, 2, 2)\n",
    "print('Zysk z lokaty wynosi: ',zysk,' zł.')"
   ]
  },
  {
   "cell_type": "code",
   "execution_count": 8,
   "metadata": {},
   "outputs": [
    {
     "name": "stdout",
     "output_type": "stream",
     "text": [
      "Zysk z lokaty wynosi:  37.44  zł.\n"
     ]
    }
   ],
   "source": [
    "zysk = KwotaPoLokacie(1000, 2.29, 1, 2)\n",
    "print('Zysk z lokaty wynosi: ',zysk,' zł.')"
   ]
  },
  {
   "cell_type": "code",
   "execution_count": 11,
   "metadata": {},
   "outputs": [
    {
     "name": "stdout",
     "output_type": "stream",
     "text": [
      "Zysk z lokaty wynosi:  19.17  zł.\n"
     ]
    }
   ],
   "source": [
    "zysk = KwotaPoLokacie(1000, 2.35, 4, 1)\n",
    "print('Zysk z lokaty wynosi: ',zysk,' zł.')"
   ]
  }
 ],
 "metadata": {
  "kernelspec": {
   "display_name": "Python 3",
   "language": "python",
   "name": "python3"
  },
  "language_info": {
   "codemirror_mode": {
    "name": "ipython",
    "version": 3
   },
   "file_extension": ".py",
   "mimetype": "text/x-python",
   "name": "python",
   "nbconvert_exporter": "python",
   "pygments_lexer": "ipython3",
   "version": "3.7.4"
  }
 },
 "nbformat": 4,
 "nbformat_minor": 4
}
