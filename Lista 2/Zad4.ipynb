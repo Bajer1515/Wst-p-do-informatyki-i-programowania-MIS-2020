{
 "cells": [
  {
   "cell_type": "markdown",
   "metadata": {},
   "source": [
    "Dni juliańskie to liczba dni, które upłynęły od 1 stycznia roku 4713 p.n.e.. Określanie dni juliańskich jest często wykorzystywane w astronomii. Ponadto, znajomość algorytmu pozwalającego obliczyć dni juliańskie na podstawie daty w kalendarzu gregoriańskim jest\n",
    "przydatna w sytuacjach gdy chcemy określić liczbę dni które upłynęły pomiędzy dwoma zdarzeniami. Niech $D$ oznacza dzień w miesiącu, $M$ miesiąc $(M \\in 1, ..., 12)$, a $Y$ rok. Wtedy dni juliańskie $d$ możemy obliczyć podstawiajac odpowiednie wartości do podanych wyrażeń:\n",
    "$$a=\\lfloor\\dfrac{14-M}{12}\\rfloor, $$\n",
    "$$y=Y+4800-a$$\n",
    "$$m=M+12a-3$$\n",
    "$$d=D+\\lfloor\\dfrac{153m+2}{5}\\rfloor+365y+\\lfloor\\dfrac{y}{4}\\rfloor-\\lfloor\\dfrac{y}{100}\\rfloor+\\lfloor\\dfrac{y}{400}\\rfloor -32045,$$\n",
    "gdzie $\\lfloor x\\rfloor$ jest częścią całkowitą liczby $x$. Na podstawie dnia juliańskiego $d$ wyznacz:\n",
    "\n",
    "* jaki był dzień tygodnia 20 lipca 1969 wiedząc, że 1 stycznia 4713r p.n.e. był poniedziałkiem\n",
    "* liczbę dni od 1 stycznia 20 lipca 1969 roku\n",
    "* liczbę dni pomiędzy 20 lipca 1969 roku a dniem, w którym odbywają się zajęcia (22.10.2020)\n"
   ]
  },
  {
   "cell_type": "code",
   "execution_count": 42,
   "metadata": {},
   "outputs": [],
   "source": [
    "def DniJulianskie(D,M,Y):\n",
    "    if ( D<=0 or D>31 ) or ( M<=0 or M>12 ) :\n",
    "        print('Błąd! Nieprawidłowy dzień lub miesiąc! Wynik będzie błędny!')\n",
    "    \n",
    "    a = (14-M)//12\n",
    "    y = Y+4800-a\n",
    "    m = M+12*a-3\n",
    "    \n",
    "    d = D + (153*m+2)//5 + (365*y) + (y//4) - (y//100) + (y//400) - 32045\n",
    "    \n",
    "    return d\n",
    "\n",
    "def JakiDzienTygodnia(d):\n",
    "    Days = ['Poniedzialek', 'Wtorek', 'Sroda', 'Czwartek', 'Piatek', 'Sobota', 'Niedziela']\n",
    "    dayID = d % 7\n",
    "    return Days[dayID]"
   ]
  },
  {
   "cell_type": "markdown",
   "metadata": {},
   "source": [
    "* Jaki był dzień tygodnia 20.07.1969 roku wiedząc, że 1.01.4713pne był poniedziałkiem"
   ]
  },
  {
   "cell_type": "code",
   "execution_count": 45,
   "metadata": {},
   "outputs": [
    {
     "name": "stdout",
     "output_type": "stream",
     "text": [
      "6\n",
      "20.7.1969 to Niedziela\n"
     ]
    }
   ],
   "source": [
    "D,M,Y = 20,7,1969\n",
    "d = DniJulianskie(D,M,Y)\n",
    "print(d%7)\n",
    "Dzien = JakiDzienTygodnia(d)\n",
    "print('{D}.{M}.{Y} to {Dzien}'.format(D=D,M=M,Y=Y,Dzien=Dzien))"
   ]
  },
  {
   "cell_type": "markdown",
   "metadata": {},
   "source": [
    "* Liczba dni od 1.01.1969 do 20.07.1969"
   ]
  },
  {
   "cell_type": "code",
   "execution_count": 53,
   "metadata": {},
   "outputs": [
    {
     "name": "stdout",
     "output_type": "stream",
     "text": [
      "Od 01.01.1969 do 20.07.1969 minęło:  200  dni.\n"
     ]
    }
   ],
   "source": [
    "d1 = DniJulianskie(1,1,1969)\n",
    "d2 = DniJulianskie(20,7,1969)\n",
    "roznica = d2-d1\n",
    "print('Od 01.01.1969 do 20.07.1969 minęło: ', roznica,' dni.')"
   ]
  },
  {
   "cell_type": "markdown",
   "metadata": {},
   "source": [
    "* Liczba dni od 20.07.1969 do 22.10.2020"
   ]
  },
  {
   "cell_type": "code",
   "execution_count": 51,
   "metadata": {},
   "outputs": [
    {
     "name": "stdout",
     "output_type": "stream",
     "text": [
      "Od 20.07.1969 do 22.10.2020 minęło:  18722  dni.\n"
     ]
    }
   ],
   "source": [
    "D1,M1,Y1 = 20,7,1969\n",
    "d1 = DniJulianskie(D1,M1,Y1)\n",
    "\n",
    "D2,M2,Y2 = 22,10,2020\n",
    "d2 = DniJulianskie(D2,M2,Y2)\n",
    "\n",
    "roznica = d2-d1\n",
    "\n",
    "print('Od 20.07.1969 do 22.10.2020 minęło: ', roznica,' dni.')"
   ]
  }
 ],
 "metadata": {
  "kernelspec": {
   "display_name": "Python 3",
   "language": "python",
   "name": "python3"
  },
  "language_info": {
   "codemirror_mode": {
    "name": "ipython",
    "version": 3
   },
   "file_extension": ".py",
   "mimetype": "text/x-python",
   "name": "python",
   "nbconvert_exporter": "python",
   "pygments_lexer": "ipython3",
   "version": "3.7.4"
  }
 },
 "nbformat": 4,
 "nbformat_minor": 4
}
