{
 "cells": [
  {
   "cell_type": "markdown",
   "metadata": {},
   "source": [
    "# Lokaty terminowe z uwzględnieniem podatku"
   ]
  },
  {
   "cell_type": "markdown",
   "metadata": {},
   "source": [
    "$K_{n}=K_{0}\\cdot\\left(1+\\left(1-\\dfrac{p}{100}\\right)\\cdot\\dfrac{r}{100\\cdot m}\\right)^{n\\cdot m}$\n",
    "\n",
    "$K_{0}$ - kapitał początkowy\n",
    "\n",
    "$r$ - oprocentowanie\n",
    "\n",
    "$m$ - ilość okresów kapitalizacji\n",
    "\n",
    "$n$ - ilość lat\n",
    "\n",
    "$p$ - $\\%$ odporowadzonego podatku"
   ]
  },
  {
   "cell_type": "code",
   "execution_count": 36,
   "metadata": {},
   "outputs": [],
   "source": [
    "def KwotaPoLokacieZad5(K0, r, m, n, opodatkowanie = 19):\n",
    "    kwota_po_lokacie = K0 * ( (1 + (1-opodatkowanie/(100))*(r)/(100*m)))**( m*n ) - K0\n",
    "\n",
    "    zysk = int(kwota_po_lokacie * 100)/100\n",
    "\n",
    "    return zysk\n"
   ]
  },
  {
   "cell_type": "code",
   "execution_count": 52,
   "metadata": {},
   "outputs": [],
   "source": [
    "def KwotaPoLokacieZad6(K0, r, m, n, opodatkowanie = 19):\n",
    "\n",
    "    KwotaPoczatkowa = K0\n",
    "    ilosc_naliczen = m*n\n",
    "    \n",
    "    for i in range(ilosc_naliczen):\n",
    "        K = K0 * ( (1+(1-opodatkowanie/(100)) * (r)/(100*m)) )\n",
    "        K = int(K*100)/100\n",
    "        K0 = K\n",
    "        \n",
    "    zysk = int( (K - KwotaPoczatkowa)*100)/100\n",
    "    \n",
    "    return zysk\n"
   ]
  },
  {
   "cell_type": "code",
   "execution_count": 53,
   "metadata": {},
   "outputs": [
    {
     "name": "stdout",
     "output_type": "stream",
     "text": [
      "Zad 5: Zysk z lokaty wynosi:  37.78  zł.\n",
      "Zad 6: Zysk z lokaty wynosi:  37.75  zł.\n"
     ]
    }
   ],
   "source": [
    "K0,r,m,n = 1000,2.3,2,2\n",
    "zysk1_5 = KwotaPoLokacieZad5(K0,r,m,n)\n",
    "zysk1_6 = KwotaPoLokacieZad6(K0,r,m,n)\n",
    "print('Zad 5: Zysk z lokaty wynosi: ',zysk1_5,' zł.')\n",
    "print('Zad 6: Zysk z lokaty wynosi: ',zysk1_6,' zł.')"
   ]
  },
  {
   "cell_type": "code",
   "execution_count": 54,
   "metadata": {},
   "outputs": [
    {
     "name": "stdout",
     "output_type": "stream",
     "text": [
      "Zad 5: Zysk z lokaty wynosi:  37.44  zł.\n",
      "Zad 6: Zysk z lokaty wynosi:  37.43  zł.\n"
     ]
    }
   ],
   "source": [
    "K0,r,m,n = 1000,2.29,1,2\n",
    "zysk2_5 = KwotaPoLokacieZad5(K0,r,m,n)\n",
    "zysk2_6 = KwotaPoLokacieZad6(K0,r,m,n)\n",
    "print('Zad 5: Zysk z lokaty wynosi: ',zysk2_5,' zł.')\n",
    "print('Zad 6: Zysk z lokaty wynosi: ',zysk2_6,' zł.')"
   ]
  },
  {
   "cell_type": "code",
   "execution_count": 55,
   "metadata": {},
   "outputs": [
    {
     "name": "stdout",
     "output_type": "stream",
     "text": [
      "Zad 5: Zysk z lokaty wynosi:  19.17  zł.\n",
      "Zad 6: Zysk z lokaty wynosi:  19.14  zł.\n"
     ]
    }
   ],
   "source": [
    "K0,r,m,n = 1000, 2.35, 4, 1\n",
    "zysk3_5 = KwotaPoLokacieZad5(K0,r,m,n)\n",
    "zysk3_6 = KwotaPoLokacieZad6(K0,r,m,n)\n",
    "print('Zad 5: Zysk z lokaty wynosi: ',zysk3_5,' zł.')\n",
    "print('Zad 6: Zysk z lokaty wynosi: ',zysk3_6,' zł.')"
   ]
  }
 ],
 "metadata": {
  "kernelspec": {
   "display_name": "Python 3",
   "language": "python",
   "name": "python3"
  },
  "language_info": {
   "codemirror_mode": {
    "name": "ipython",
    "version": 3
   },
   "file_extension": ".py",
   "mimetype": "text/x-python",
   "name": "python",
   "nbconvert_exporter": "python",
   "pygments_lexer": "ipython3",
   "version": "3.7.4"
  }
 },
 "nbformat": 4,
 "nbformat_minor": 4
}
