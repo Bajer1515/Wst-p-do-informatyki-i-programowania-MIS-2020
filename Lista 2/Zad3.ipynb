{
 "cells": [
  {
   "cell_type": "markdown",
   "metadata": {},
   "source": [
    "Dane są dwa okręgi $C_{1}$ o środku w punkcie $(x_{1}, y_{1})$ i promieniu $r_{1}$ oraz $C_{2}$ o środku w punkcie $(x_{2}, y_{2})$ i promieniu $r_{2}$. Napisz skrypt, który będzie zwracał wartość typu bool: wartość $False$ jeżeli okręgi są rozłączne i wartość $True$ w pozostałych przypadkach. Sprawdź poprawnoć swoich obliczeń dla $(x_{1}, y_{1}) = (1, 1)$, $r_{1} = 5$ i $(x_{2}, y_{2}) = (6, 2)$, $r_{2} = 2$.\n"
   ]
  },
  {
   "cell_type": "code",
   "execution_count": 35,
   "metadata": {},
   "outputs": [],
   "source": [
    "import math"
   ]
  },
  {
   "cell_type": "code",
   "execution_count": 53,
   "metadata": {},
   "outputs": [],
   "source": [
    "def CompareCircles(x1,y1,r1,x2,y2,r2):\n",
    "    \n",
    "    #Obliczam długość odcinka łączącego środki okręgów\n",
    "    dlX1X2 = math.sqrt( (x2-x1)**2 + (y2-y1)**2 )\n",
    "    \n",
    "    #Ustalam, który promień jest dłuższy i R - dłuższy promień, r - krótszy promień.\n",
    "    if r1<r2:\n",
    "        R = r2\n",
    "        r = r1\n",
    "    else:\n",
    "        R = r1\n",
    "        r = r2\n",
    "    \n",
    "    #Sprawdzam, czy okręgi są rozłączne zewnetrznie lub wewnętrznie.\n",
    "    #Jeżeli nie są, to znaczy, że są styczne lub się przecinają.\n",
    "    if (dlX1X2 > (R+r)) or (dlX1X2 <(R-r)): \n",
    "        return [False, dlX1X2]\n",
    "    else:\n",
    "        return [True, dlX1X2]"
   ]
  },
  {
   "cell_type": "code",
   "execution_count": 55,
   "metadata": {},
   "outputs": [
    {
     "name": "stdout",
     "output_type": "stream",
     "text": [
      "Długość odcinka łączącego środki okręgów wynosi 5.0990195135927845\n",
      "Wynik skryptu jest następujący:  True\n"
     ]
    }
   ],
   "source": [
    "[result, dlAB] = CompareCircles(1,1,5,6,2,2)\n",
    "print('Długość odcinka łączącego środki okręgów wynosi {}'.format(dlAB))\n",
    "print('Wynik skryptu jest następujący: ',result)"
   ]
  }
 ],
 "metadata": {
  "kernelspec": {
   "display_name": "Python 3",
   "language": "python",
   "name": "python3"
  },
  "language_info": {
   "codemirror_mode": {
    "name": "ipython",
    "version": 3
   },
   "file_extension": ".py",
   "mimetype": "text/x-python",
   "name": "python",
   "nbconvert_exporter": "python",
   "pygments_lexer": "ipython3",
   "version": "3.7.4"
  }
 },
 "nbformat": 4,
 "nbformat_minor": 4
}
