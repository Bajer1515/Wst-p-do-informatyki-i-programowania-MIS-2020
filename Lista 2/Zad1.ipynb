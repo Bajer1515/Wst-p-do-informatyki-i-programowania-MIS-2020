{
 "cells": [
  {
   "cell_type": "code",
   "execution_count": 1,
   "metadata": {},
   "outputs": [],
   "source": [
    "from IPython.display import Markdown"
   ]
  },
  {
   "cell_type": "markdown",
   "metadata": {},
   "source": [
    "# Jak rozwiązać równanie kwadratowe?"
   ]
  },
  {
   "cell_type": "markdown",
   "metadata": {},
   "source": [
    "Cześć! Pozwól, że pokażę Ci, jak rozwiązać równanie kwadratowe $x^{2}-4x+2=0$"
   ]
  },
  {
   "cell_type": "markdown",
   "metadata": {},
   "source": [
    "Na początek jeżeli nie widzisz pewnych zależności zaczniemy od policzenia delty! Zacznijmy od części teoretycznej! Załóżmy zatem, że mamy jakieś równanie kwadratowe o postaci: $ax^{2}+bx+c=0$.\n",
    "\n",
    "1. W pierwszej kolejności musisz policzyć deltę: $\\Delta=b^{2}-4ac$. \n"
   ]
  },
  {
   "cell_type": "markdown",
   "metadata": {},
   "source": [
    "2. Jeżeli $\\Delta = 0$ to równanie ma jedno rozwiazanie dane w postaci: $x_{0}=\\dfrac{-b}{2a}$.  \n"
   ]
  },
  {
   "cell_type": "markdown",
   "metadata": {},
   "source": [
    "3. Jeżeli $\\Delta < 0$ to równanie nie ma żadnych rozwiazań w zbiorze liczb rzeczywistych.\n"
   ]
  },
  {
   "cell_type": "markdown",
   "metadata": {},
   "source": [
    "4. Jeżeli $\\Delta > 0$ to równanie będzie miało dwa rozwiązania wyliczane z odpowiednich wzorów $ x_{1}=\\dfrac{-b-\\sqrt{\\Delta}}{2a}$ lub $x_{2}=\\dfrac{-b+\\sqrt{\\Delta}}{2a}$ "
   ]
  },
  {
   "cell_type": "markdown",
   "metadata": {},
   "source": [
    "Więc weźmy się teraz za rozwiązanie naszego przykładu! "
   ]
  },
  {
   "cell_type": "markdown",
   "metadata": {},
   "source": [
    "Zaczniemy od wyliczania delty:"
   ]
  },
  {
   "cell_type": "code",
   "execution_count": 2,
   "metadata": {},
   "outputs": [
    {
     "data": {
      "text/markdown": [
       " $\\Delta$ = 8"
      ],
      "text/plain": [
       "<IPython.core.display.Markdown object>"
      ]
     },
     "execution_count": 2,
     "metadata": {},
     "output_type": "execute_result"
    }
   ],
   "source": [
    "a,b,c = 1,-4,2 \n",
    "delta = (b)**2 - 4*a*c\n",
    "Markdown(''' $\\Delta$ = {delta}'''.format(delta=delta))"
   ]
  },
  {
   "cell_type": "markdown",
   "metadata": {},
   "source": [
    "Skoro $\\Delta > 0$ to znaczy, że musimy wyliczyć dwa miejsca zerowe $x_{1}$ i $x_{2}$ zgodnie ze wzorami, które podałem Ci powyżej. Zatem policzmy: \n",
    "$$x_{1}=\\dfrac{-(-4)-\\sqrt{8}}{2\\cdot1}\\qquad \\text{ lub }\\qquad x_{2}=\\dfrac{-(-4)+\\sqrt{8}}{2\\cdot1}$$"
   ]
  },
  {
   "cell_type": "code",
   "execution_count": 3,
   "metadata": {},
   "outputs": [
    {
     "data": {
      "text/markdown": [
       "Żeby policzyć dokładną wartość takiego wyrażenia najlepiej użyj kalkulatora, ale koniecznie zwykłego. Na maturze nie będziesz mógł używać kalkulatora naukowego! Więc jak już wstukasz te wartości to okaże się, że nasz x jest równy 0.5857864376269049 lub 3.414213562373095."
      ],
      "text/plain": [
       "<IPython.core.display.Markdown object>"
      ]
     },
     "execution_count": 3,
     "metadata": {},
     "output_type": "execute_result"
    }
   ],
   "source": [
    "x1 = (-b-delta**(1/2))/(2*a)\n",
    "x2 = (-b+delta**(1/2))/(2*a)\n",
    "Markdown('''Żeby policzyć dokładną wartość takiego wyrażenia najlepiej użyj kalkulatora, ale koniecznie zwykłego. Na maturze nie będziesz mógł używać kalkulatora naukowego! Więc jak już wstukasz te wartości to okaże się, że nasz x jest równy {x1} lub {x2}.'''.format(x1=x1,x2=x2))"
   ]
  },
  {
   "cell_type": "markdown",
   "metadata": {},
   "source": [
    "Pamiętaj, że na koniec musisz jeszcze sprawdzić, czy Twoje rozwiązanie pasuje do dziedziny naszego równania ale na szczęście w tym przypadku mamy zbiór liczb rzeczywistych czyli $\\mathbb{D} = \\mathbb{R}$."
   ]
  }
 ],
 "metadata": {
  "kernelspec": {
   "display_name": "Python 3",
   "language": "python",
   "name": "python3"
  },
  "language_info": {
   "codemirror_mode": {
    "name": "ipython",
    "version": 3
   },
   "file_extension": ".py",
   "mimetype": "text/x-python",
   "name": "python",
   "nbconvert_exporter": "python",
   "pygments_lexer": "ipython3",
   "version": "3.7.4"
  }
 },
 "nbformat": 4,
 "nbformat_minor": 4
}
