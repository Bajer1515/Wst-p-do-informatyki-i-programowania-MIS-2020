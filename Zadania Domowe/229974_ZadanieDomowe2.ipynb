{
 "cells": [
  {
   "cell_type": "markdown",
   "metadata": {},
   "source": [
    "1. $\\textit{Tabela Wyników}$ Tabela powinna mieć tytuł ”Tabela Wyników”. Użytkownik powinien mieć możliwość wpisania nazw czterech drużyn razem z ich punktami (funkcja $\\textit{input()}$). W tabeli powinny się znajdować informacje o dokładnie czterech drużynach. Nazwa drużyny powinna być wyśrodkowana, a liczba punktów powinna być wyrównana do połowy szerokości komórki. Możesz założyć, że nazwa drużyny nie będzie dłuższa niż 15 znaków a liczba punktów nie będzie większa niż 1000. Liczba punktów jest liczbą całkowitą."
   ]
  },
  {
   "cell_type": "code",
   "execution_count": 14,
   "metadata": {},
   "outputs": [],
   "source": [
    "pozioma = '\\u2550'\n",
    "pionowa = '\\u2551'\n",
    "lcornerUp = '\\u2554'\n",
    "rcornerUp = '\\u2557'\n",
    "lcornerDown = '\\u255A'\n",
    "rcornerDown = '\\u255D'\n",
    "Lcross = '\\u2560'\n",
    "Rcross = '\\u2563'\n",
    "Tcross = '\\u2566'\n",
    "Bcross = '\\u2569'\n",
    "Cross = '\\u256C'\n",
    "\n",
    "n = 15"
   ]
  },
  {
   "cell_type": "code",
   "execution_count": 15,
   "metadata": {},
   "outputs": [],
   "source": [
    "def Wyniki():\n",
    "    D1 = input('Podaj nazwę drużyny: ')\n",
    "    while len(D1) > n:\n",
    "        D1 = input('Podaj nazwę krótszą niż 15 znaków: ')\n",
    "    D1P = int(input('Podaj liczbe punktów: '))\n",
    "    while D1P > 1000:\n",
    "        D1P = int(input('Ilość punktów musi być mniejsza niż 1000! Podaj jeszcze raz: '))\n",
    "    \n",
    "    D2 = input('Podaj nazwę drużyny: ')\n",
    "    while len(D2) > n:\n",
    "        D2 = input('Podaj nazwę krótszą niż 15 znaków: ')\n",
    "    D2P = int(input('Podaj liczbe punktów: '))\n",
    "    while D2P > 1000:\n",
    "        D2P = int(input('Ilość punktów musi być mniejsza niż 1000! Podaj jeszcze raz: '))\n",
    "    \n",
    "    D3 = input('Podaj nazwę drużyny: ')\n",
    "    while len(D3) > n:\n",
    "        D3 = input('Podaj nazwę krótszą niż 15 znaków: ')\n",
    "    D3P = int(input('Podaj liczbe punktów: '))\n",
    "    while D3P > 1000:\n",
    "        D3P = int(input('Ilość punktów musi być mniejsza niż 1000! Podaj jeszcze raz: '))\n",
    "    \n",
    "    D4 = input('Podaj nazwę drużyny: ')\n",
    "    while len(D4) > n:\n",
    "        D4 = input('Podaj nazwę krótszą niż 15 znaków: ')\n",
    "    D4P = int(input('Podaj liczbe punktów: ')) \n",
    "    while D4P > 1000:\n",
    "        D4P = int(input('Ilość punktów musi być mniejsza niż 1000! Podaj jeszcze raz: '))\n",
    "    \n",
    "    Druzyny = (D1, D2, D3, D4)\n",
    "    Punkty = (D1P, D2P, D3P, D4P)\n",
    "#     return D1, D1P, D2, D2P, D3, D3P, D4, D4P\n",
    "    return Druzyny, Punkty"
   ]
  },
  {
   "cell_type": "code",
   "execution_count": 15,
   "metadata": {},
   "outputs": [],
   "source": [
    "def TworzenieTabeli(n, Druzyny, Punkty):\n",
    "    Nazwa = 'Tabela Wyników'\n",
    "    \n",
    "    Gorna_Linia = lcornerUp + (2*n+1)*pozioma + rcornerUp + '\\n'\n",
    "    Srodek_Ramki = pionowa + Nazwa.center(2*n+1) + pionowa + '\\n'\n",
    "    Dolna_Linia_Ramki = Lcross + n*pozioma + Tcross + n*pozioma + Rcross +'\\n'\n",
    "    \n",
    "    Linia_Pomiedzy = Lcross + n*pozioma + Cross + n*pozioma + Rcross + '\\n'\n",
    "    Ostatnia = lcornerDown + n*pozioma + Bcross + n*pozioma + rcornerDown\n",
    "\n",
    "# Różne możliwości zapisu wierszy tej tabeli. Ostatni (odkomentowany) sposób jest wymagany w tym zadaniu.\n",
    "#     Wiersz_1 = pionowa + D1.center(n) + pionowa + str(D1P).center(n) + pionowa + '\\n'\n",
    "#     Wiersz_2 = pionowa + D2.center(n) + pionowa + str(D2P).center(n) + pionowa + '\\n'\n",
    "#     Wiersz_3 = pionowa + D3.center(n) + pionowa + str(D3P).center(n) + pionowa + '\\n'\n",
    "#     Wiersz_4 = pionowa + D4.center(n) + pionowa + str(D4P).center(n) + pionowa + '\\n'\n",
    "    \n",
    "#     Wiersz_1 = pionowa + Druzyny[0].center(n) + pionowa + str(Punkty[0]).center(n) + pionowa + '\\n'\n",
    "#     Wiersz_2 = pionowa + Druzyny[1].center(n) + pionowa + str(Punkty[1]).center(n) + pionowa + '\\n'\n",
    "#     Wiersz_3 = pionowa + Druzyny[2].center(n) + pionowa + str(Punkty[2]).center(n) + pionowa + '\\n'\n",
    "#     Wiersz_4 = pionowa + Druzyny[3].center(n) + pionowa + str(Punkty[3]).center(n) + pionowa + '\\n'\n",
    "    p = n//2\n",
    "    \n",
    "    Wiersz_1 = pionowa + Druzyny[0].center(n) + pionowa + '{:>8}'.format(Punkty[0]) + p*' ' + pionowa + '\\n'\n",
    "    Wiersz_2 = pionowa + Druzyny[1].center(n) + pionowa + '{:>8}'.format(Punkty[1]) + p*' ' + pionowa + '\\n'\n",
    "    Wiersz_3 = pionowa + Druzyny[2].center(n) + pionowa + '{:>8}'.format(Punkty[2]) + p*' ' + pionowa + '\\n'\n",
    "    Wiersz_4 = pionowa + Druzyny[3].center(n) + pionowa + '{:>8}'.format(Punkty[3]) + p*' ' + pionowa + '\\n'\n",
    "    \n",
    "    Naglowek = Gorna_Linia + Srodek_Ramki + Dolna_Linia_Ramki\n",
    "    \n",
    "    Tabela = Naglowek + Wiersz_1 + Linia_Pomiedzy + Wiersz_2 + Linia_Pomiedzy + Wiersz_3 + Linia_Pomiedzy + Wiersz_4 + Ostatnia\n",
    "    \n",
    "    return Tabela"
   ]
  },
  {
   "cell_type": "code",
   "execution_count": 15,
   "metadata": {},
   "outputs": [],
   "source": [
    "def Porownanie():\n",
    "    D1 = int(input('Podaj numer drużyny pierwszej do porównania: '))\n",
    "    D2 = int(input('Podaj numer drużyny drugiej do porównania: '))\n",
    "\n",
    "    n1 = D1-1\n",
    "    n2 = D2-1\n",
    "    \n",
    "    Napisy = ('Różnica', 'Stosunek', 'Kto lepszy?')\n",
    "    m = 2*len(Druzyny[n1])+3\n",
    "    Naglowek = Druzyny[n1] + ' ('+str(Punkty[n1])+') vs ' + Druzyny[n2] + ' (' + str(Punkty[n2]) + ')' \n",
    "    \n",
    "    Gorna_Linia = lcornerUp + (2*m+1)*pozioma + rcornerUp + '\\n'\n",
    "    Srodek_Ramki = pionowa + Naglowek.center(2*m+1) + pionowa + '\\n'\n",
    "    Dolna_Linia_Ramki = Lcross + m*pozioma + Tcross + m*pozioma + Rcross +'\\n'\n",
    "\n",
    "    Linia_Pomiedzy = Lcross + m*pozioma + Cross + m*pozioma + Rcross + '\\n'\n",
    "    Ostatnia = lcornerDown + m*pozioma + Bcross + m*pozioma + rcornerDown\n",
    "\n",
    "    roznica = abs(Punkty[n1]-Punkty[n2])\n",
    "    stosunek = round(Punkty[n1]/Punkty[n2],2)\n",
    "    lepszy = Druzyny[n1] if Punkty[n1]>Punkty[n2] else Druzyny[n2]\n",
    "\n",
    "    Wiersz_1 = pionowa + Napisy[0].center(m) + pionowa + str(roznica).center(m) + pionowa + '\\n'\n",
    "    Wiersz_2 = pionowa + Napisy[1].center(m) + pionowa + f'{stosunek:.2f}'.center(m) + pionowa + '\\n'\n",
    "    Wiersz_3 = pionowa + Napisy[2].center(m) + pionowa + lepszy.center(m) + pionowa + '\\n'\n",
    "    \n",
    "    Naglowek = Gorna_Linia + Srodek_Ramki + Dolna_Linia_Ramki\n",
    "    Tabela = Naglowek + Wiersz_1 + Linia_Pomiedzy + Wiersz_2 + Linia_Pomiedzy + Wiersz_3 + Ostatnia\n",
    "    \n",
    "    return Tabela"
   ]
  },
  {
   "cell_type": "code",
   "execution_count": 3,
   "metadata": {},
   "outputs": [
    {
     "name": "stdin",
     "output_type": "stream",
     "text": [
      "Podaj nazwę drużyny:  DruzynaA\n",
      "Podaj liczbe punktów:  1\n",
      "Podaj nazwę drużyny:  DruzynaB\n",
      "Podaj liczbe punktów:  10\n",
      "Podaj nazwę drużyny:  DruzynaC\n",
      "Podaj liczbe punktów:  123\n",
      "Podaj nazwę drużyny:  DruzynaD\n",
      "Podaj liczbe punktów:  1000\n"
     ]
    }
   ],
   "source": [
    "# D1, D1P, D2, D2P, D3, D3P, D4, D4P = Wyniki()\n",
    "Druzyny, Punkty = Wyniki()"
   ]
  },
  {
   "cell_type": "code",
   "execution_count": 7,
   "metadata": {},
   "outputs": [
    {
     "name": "stdout",
     "output_type": "stream",
     "text": [
      "╔═══════════════════════════════╗\n",
      "║         Tabela Wyników        ║\n",
      "╠═══════════════╦═══════════════╣\n",
      "║    DruzynaA   ║       1       ║\n",
      "╠═══════════════╬═══════════════╣\n",
      "║    DruzynaB   ║      10       ║\n",
      "╠═══════════════╬═══════════════╣\n",
      "║    DruzynaC   ║     123       ║\n",
      "╠═══════════════╬═══════════════╣\n",
      "║    DruzynaD   ║    1000       ║\n",
      "╚═══════════════╩═══════════════╝\n"
     ]
    }
   ],
   "source": [
    "Tabelka = TworzenieTabeli(n, Druzyny, Punkty)\n",
    "print(Tabelka)"
   ]
  },
  {
   "cell_type": "markdown",
   "metadata": {},
   "source": [
    "2. $\\textit{Porównanie wyników}$ W tytule tabeli powinny pojawić się nazwy porównywanych drużyn wraz z ich punktami zapisanymi w okrągłych nawiasach. Tabela powinna mieć trzy wiersze i dwie kolumny. W pierwszej kolumnie powinny znaleźć się napisy: ”Różnica”, ”Stosunek”, ”Kto lepszy?”, a w drugiej, w odpowiednich wierszach, powinny pojawić się liczby oznaczające bezwzględną różnicę punktów oraz stosunek punktów pierwszej drużyny do punktów drugiej drużyny. Natomiast w ostatnim wierszu powinna zostać wypisana nazwa drużyny, która ma więcej punktów. Wszystkie napisy i liczby powinny być wyśrodkowane. Tabela powinna prawidłowo się rysować dla dowolnej długości drużyn i dowolnej liczbie punktów. Liczba punktów jest liczbą całkowitą. W przypadku wyniku dla ilorazu punktów, otrzymaną liczbę należy zaokrąglić do dwóch miejsc po przecinku."
   ]
  },
  {
   "cell_type": "code",
   "execution_count": 13,
   "metadata": {},
   "outputs": [
    {
     "name": "stdin",
     "output_type": "stream",
     "text": [
      "Podaj numer drużyny pierwszej do porównania:  2\n",
      "Podaj numer drużyny drugiej do porównania:  3\n"
     ]
    },
    {
     "name": "stdout",
     "output_type": "stream",
     "text": [
      "╔═══════════════════════════════════════╗\n",
      "║    DruzynaB (10) vs DruzynaC (123)    ║\n",
      "╠═══════════════════╦═══════════════════╣\n",
      "║      Różnica      ║        113        ║\n",
      "╠═══════════════════╬═══════════════════╣\n",
      "║      Stosunek     ║        0.08       ║\n",
      "╠═══════════════════╬═══════════════════╣\n",
      "║    Kto lepszy?    ║      DruzynaC     ║\n",
      "╚═══════════════════╩═══════════════════╝\n"
     ]
    }
   ],
   "source": [
    "Tabelka = Porownanie()\n",
    "print(Tabelka)"
   ]
  }
 ],
 "metadata": {
  "kernelspec": {
   "display_name": "Python 3",
   "language": "python",
   "name": "python3"
  },
  "language_info": {
   "codemirror_mode": {
    "name": "ipython",
    "version": 3
   },
   "file_extension": ".py",
   "mimetype": "text/x-python",
   "name": "python",
   "nbconvert_exporter": "python",
   "pygments_lexer": "ipython3",
   "version": "3.7.4"
  }
 },
 "nbformat": 4,
 "nbformat_minor": 4
}
