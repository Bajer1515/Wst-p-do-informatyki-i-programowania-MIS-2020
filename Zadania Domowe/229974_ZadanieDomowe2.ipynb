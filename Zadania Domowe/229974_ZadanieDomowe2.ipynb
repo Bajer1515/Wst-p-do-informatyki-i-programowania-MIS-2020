{
 "cells": [
  {
   "cell_type": "markdown",
   "metadata": {},
   "source": [
    "Unikod (ang. Unicode) – komputerowy zestaw znaków mający w zamierzeniu obejmować wszystkie pisma używane na świecie. Definiują go dwa standardy – Unicode oraz ISO 10646. Znaki obu standardów są identyczne. Standardy te różnią się w drobnych kwestiach, m.in. Unicode określa sposób składu.\n",
    "\n",
    "Rozwijany jest przez konsorcjum, w którego skład wchodzą ważne firmy komputerowe, producenci oprogramowania, instytuty naukowe, agencje międzynarodowe oraz grupy zainteresowanych użytkowników. Konsorcjum współpracuje z organizacją ISO.\n",
    "\n",
    "Standard Unicode obejmuje przydział przestrzeni numeracyjnej poszczególnym grupom znaków oraz sposoby bajtowego kodowania znaków. Jest kilka metod kodowania, oznaczanych skrótowcami UCS (Universal Character Set) i UTF (Unicode Transformation Format). Do najważniejszych należą:\n",
    "* UTF-32/UCS-4\n",
    "* UTF-16\n",
    "* UTF-8.\n",
    "\n",
    "Mniej popularnymi kodowaniami Unicode są:\n",
    "* UTF-7\n",
    "* UCS-2.\n",
    "\n",
    "Istnieją również inne kodowania, stanowiące margines lub pozostające na etapie propozycji, na przykład:\n",
    "* UTF-9 i UTF-18\n",
    "* UTF-EBCDIC\n",
    "* UTF-6\n",
    "* UTF-5.\n",
    "\n",
    "Kody pierwszych 256 znaków Unicode pokrywają się z kodami ISO Latin 1 (czyli ISO-8859-1), przez co kody pierwszych 128 znaków pokrywają się z ASCII. Należy jednak pamiętać, że jest to zbieżność wyłącznie numerów przyporządkowanych konkretnym znakom, natomiast wartości bajtów użytych do ich zapisania mogą (i w większości kodowań będą) różnić się od tych, które uzyska się stosując Latin 1 lub ASCII.\n",
    "\n",
    "W dużym uproszczeniu można powiedzieć, że aby używać unicode'a w połączeniu z python wystarczy znać odpowiedni kod danego znaku, a następnie korzystając z pythona należy wpisać \\u + kod. Wszystkie symbole, które zostaną wykorzystane w zadaniu domowym są przypisane do zmiennych w pierwszej komórce obliczeniowej tego notebooka."
   ]
  },
  {
   "cell_type": "markdown",
   "metadata": {},
   "source": [
    "1. $\\textit{Tabela Wyników}$ Tabela powinna mieć tytuł ”Tabela Wyników”. Użytkownik powinien mieć możliwość wpisania nazw czterech drużyn razem z ich punktami (funkcja $\\textit{input()}$). W tabeli powinny się znajdować informacje o dokładnie czterech drużynach. Nazwa drużyny powinna być wyśrodkowana, a liczba punktów powinna być wyrównana do połowy szerokości komórki. Możesz założyć, że nazwa drużyny nie będzie dłuższa niż 15 znaków a liczba punktów nie będzie większa niż 1000. Liczba punktów jest liczbą całkowitą."
   ]
  },
  {
   "cell_type": "code",
   "execution_count": 1,
   "metadata": {},
   "outputs": [],
   "source": [
    "pozioma = '\\u2550'\n",
    "pionowa = '\\u2551'\n",
    "lcornerUp = '\\u2554'\n",
    "rcornerUp = '\\u2557'\n",
    "lcornerDown = '\\u255A'\n",
    "rcornerDown = '\\u255D'\n",
    "Lcross = '\\u2560'\n",
    "Rcross = '\\u2563'\n",
    "Tcross = '\\u2566'\n",
    "Bcross = '\\u2569'\n",
    "Cross = '\\u256C'"
   ]
  },
  {
   "cell_type": "code",
   "execution_count": 1,
   "metadata": {},
   "outputs": [],
   "source": [
    "def Wyniki(n):\n",
    "    '''Funkcja wczytuje argumenty podane z klawiatury i zapisuje je do dwóch list Druzyny i Punkty w kolejnosci podania.'''\n",
    "    D1 = input('Podaj nazwę drużyny: ')\n",
    "    while len(D1) > n:\n",
    "        D1 = input('Podaj nazwę krótszą niż 15 znaków: ')\n",
    "    D1P = int(input('Podaj liczbe punktów: '))\n",
    "    while D1P > 1000:\n",
    "        D1P = int(input('Ilość punktów musi być mniejsza niż 1000! Podaj jeszcze raz: '))\n",
    "    \n",
    "    D2 = input('Podaj nazwę drużyny: ')\n",
    "    while len(D2) > n:\n",
    "        D2 = input('Podaj nazwę krótszą niż 15 znaków: ')\n",
    "    D2P = int(input('Podaj liczbe punktów: '))\n",
    "    while D2P > 1000:\n",
    "        D2P = int(input('Ilość punktów musi być mniejsza niż 1000! Podaj jeszcze raz: '))\n",
    "    \n",
    "    D3 = input('Podaj nazwę drużyny: ')\n",
    "    while len(D3) > n:\n",
    "        D3 = input('Podaj nazwę krótszą niż 15 znaków: ')\n",
    "    D3P = int(input('Podaj liczbe punktów: '))\n",
    "    while D3P > 1000:\n",
    "        D3P = int(input('Ilość punktów musi być mniejsza niż 1000! Podaj jeszcze raz: '))\n",
    "    \n",
    "    D4 = input('Podaj nazwę drużyny: ')\n",
    "    while len(D4) > n:\n",
    "        D4 = input('Podaj nazwę krótszą niż 15 znaków: ')\n",
    "    D4P = int(input('Podaj liczbe punktów: ')) \n",
    "    while D4P > 1000:\n",
    "        D4P = int(input('Ilość punktów musi być mniejsza niż 1000! Podaj jeszcze raz: '))\n",
    "    \n",
    "    Druzyny = [D1, D2, D3, D4]\n",
    "    Punkty = [D1P, D2P, D3P, D4P]\n",
    "\n",
    "    return Druzyny, Punkty"
   ]
  },
  {
   "cell_type": "code",
   "execution_count": 5,
   "metadata": {},
   "outputs": [],
   "source": [
    "def TworzenieTabeli(n, Druzyny, Punkty):\n",
    "    '''Dla zadanej szerokosci komórki 'n' funkcja zwraca tabelę zawierającą drużyny i odpowiadającą im ilość punktów.'''\n",
    "    \n",
    "    Nazwa = 'Tabela Wyników'\n",
    "    \n",
    "    Gorna_Linia = lcornerUp + (2*n+1)*pozioma + rcornerUp + '\\n'\n",
    "    Srodek_Ramki = pionowa + Nazwa.center(2*n+1) + pionowa + '\\n'\n",
    "    Dolna_Linia_Ramki = Lcross + n*pozioma + Tcross + n*pozioma + Rcross +'\\n'\n",
    "    \n",
    "    Linia_Pomiedzy = Lcross + n*pozioma + Cross + n*pozioma + Rcross + '\\n'\n",
    "    Ostatnia = lcornerDown + n*pozioma + Bcross + n*pozioma + rcornerDown\n",
    "\n",
    "    p = n//2\n",
    "    \n",
    "    Wiersz_1 = pionowa + Druzyny[0].center(n) + pionowa + '{:>{m}}'.format(Punkty[0],m=p+1) + p*' ' + pionowa + '\\n'\n",
    "    Wiersz_2 = pionowa + Druzyny[1].center(n) + pionowa + '{:>{m}}'.format(Punkty[1],m=p+1) + p*' ' + pionowa + '\\n'\n",
    "    Wiersz_3 = pionowa + Druzyny[2].center(n) + pionowa + '{:>{m}}'.format(Punkty[2],m=p+1) + p*' ' + pionowa + '\\n'\n",
    "    Wiersz_4 = pionowa + Druzyny[3].center(n) + pionowa + '{:>{m}}'.format(Punkty[3],m=p+1) + p*' ' + pionowa + '\\n'\n",
    "    \n",
    "    Naglowek = Gorna_Linia + Srodek_Ramki + Dolna_Linia_Ramki\n",
    "    \n",
    "    Tabela = Naglowek + Wiersz_1 + Linia_Pomiedzy + Wiersz_2 + Linia_Pomiedzy + Wiersz_3 + Linia_Pomiedzy + Wiersz_4 + Ostatnia\n",
    "    \n",
    "    return Tabela"
   ]
  },
  {
   "cell_type": "code",
   "execution_count": 44,
   "metadata": {},
   "outputs": [],
   "source": [
    "def Porownanie():\n",
    "    '''Funkcja najpierw wczytuje drużyny z punktacją.\n",
    "    Następnie wylicza szerokość komórki bazując na dłuższej nazwie spośród dwóch drużyn.\n",
    "    W przypadku nazw drużyn gdzie napis nagłówka byłby zbyt krótki na sztywno tworzymy zmienną dającą minimalną szerokość tabeli.\n",
    "    Dla wyliczonych statystyk zwraca tabelę porównującą podane drużyny. \n",
    "    '''\n",
    "    \n",
    "    D1 = input('Podaj nazwę drużyny: ')\n",
    "    D1P = int(input('Podaj liczbe punktów: '))\n",
    "    D2 = input('Podaj nazwę drużyny: ')\n",
    "    D2P = int(input('Podaj liczbe punktów: '))\n",
    "\n",
    "    Napisy = ('Różnica', 'Stosunek', 'Kto lepszy?')\n",
    "#     m = 12+len(D1)+len(D2)+len(str(D1P))+len(str(D2P))\n",
    "    m = 2*(len(D1)) if len(D1)>len(D2) else 2*(len(D2))\n",
    "    if m < 13:\n",
    "        m = 13\n",
    "#     k = 2*m+1    \n",
    "#     k = m//2    \n",
    "    Naglowek = D1 + ' ('+str(D1P)+') vs ' + D2 + ' (' + str(D2P) + ')' \n",
    "    \n",
    "    Gorna_Linia = lcornerUp + (2*m+1)*pozioma + rcornerUp + '\\n'\n",
    "    Srodek_Ramki = pionowa + Naglowek.center(2*m+1) + pionowa + '\\n'\n",
    "    Dolna_Linia_Ramki = Lcross + m*pozioma + Tcross + m*pozioma + Rcross +'\\n'\n",
    "\n",
    "    Linia_Pomiedzy = Lcross + m*pozioma + Cross + m*pozioma + Rcross + '\\n'\n",
    "    Ostatnia = lcornerDown + m*pozioma + Bcross + m*pozioma + rcornerDown\n",
    "\n",
    "    roznica = abs(D1P-D2P)\n",
    "    stosunek = round(D1P/D2P,2)\n",
    "    if D1P>D2P:\n",
    "        lepszy = D1\n",
    "    elif D1P<D2P:\n",
    "        lepszy = D2\n",
    "    else:\n",
    "        lepszy = 'Remis'\n",
    "#     lepszy = D1 if D1P>D2P if D2P>D1P else D2\n",
    "\n",
    "    Wiersz_1 = pionowa + Napisy[0].center(m) + pionowa + str(roznica).center(m) + pionowa + '\\n'\n",
    "    Wiersz_2 = pionowa + Napisy[1].center(m) + pionowa + f'{stosunek:.2f}'.center(m) + pionowa + '\\n'\n",
    "    Wiersz_3 = pionowa + Napisy[2].center(m) + pionowa + lepszy.center(m) + pionowa + '\\n'\n",
    "    \n",
    "    Naglowek = Gorna_Linia + Srodek_Ramki + Dolna_Linia_Ramki\n",
    "    Tabela = Naglowek + Wiersz_1 + Linia_Pomiedzy + Wiersz_2 + Linia_Pomiedzy + Wiersz_3 + Ostatnia\n",
    "    \n",
    "    return Tabela"
   ]
  },
  {
   "cell_type": "code",
   "execution_count": 3,
   "metadata": {},
   "outputs": [
    {
     "name": "stdin",
     "output_type": "stream",
     "text": [
      "Podaj nazwę drużyny:  DA\n",
      "Podaj liczbe punktów:  12\n",
      "Podaj nazwę drużyny:  DB\n",
      "Podaj liczbe punktów:  1\n",
      "Podaj nazwę drużyny:  DC\n",
      "Podaj liczbe punktów:  3\n",
      "Podaj nazwę drużyny:  DD\n",
      "Podaj liczbe punktów:  999\n"
     ]
    }
   ],
   "source": [
    "n = 15\n",
    "Druzyny, Punkty = Wyniki(n)"
   ]
  },
  {
   "cell_type": "code",
   "execution_count": 28,
   "metadata": {},
   "outputs": [
    {
     "name": "stdout",
     "output_type": "stream",
     "text": [
      "╔═══════════════════════════════╗\n",
      "║         Tabela Wyników        ║\n",
      "╠═══════════════╦═══════════════╣\n",
      "║       A       ║       1       ║\n",
      "╠═══════════════╬═══════════════╣\n",
      "║       B       ║       2       ║\n",
      "╠═══════════════╬═══════════════╣\n",
      "║       C       ║      13       ║\n",
      "╠═══════════════╬═══════════════╣\n",
      "║       D       ║     999       ║\n",
      "╚═══════════════╩═══════════════╝\n"
     ]
    }
   ],
   "source": [
    "Tabelka = TworzenieTabeli(n, Druzyny, Punkty)\n",
    "print(Tabelka)"
   ]
  },
  {
   "cell_type": "markdown",
   "metadata": {},
   "source": [
    "2. $\\textit{Porównanie wyników}$ W tytule tabeli powinny pojawić się nazwy porównywanych drużyn wraz z ich punktami zapisanymi w okrągłych nawiasach. Tabela powinna mieć trzy wiersze i dwie kolumny. W pierwszej kolumnie powinny znaleźć się napisy: ”Różnica”, ”Stosunek”, ”Kto lepszy?”, a w drugiej, w odpowiednich wierszach, powinny pojawić się liczby oznaczające bezwzględną różnicę punktów oraz stosunek punktów pierwszej drużyny do punktów drugiej drużyny. Natomiast w ostatnim wierszu powinna zostać wypisana nazwa drużyny, która ma więcej punktów. Wszystkie napisy i liczby powinny być wyśrodkowane. Tabela powinna prawidłowo się rysować dla dowolnej długości drużyn i dowolnej liczbie punktów. Liczba punktów jest liczbą całkowitą. W przypadku wyniku dla ilorazu punktów, otrzymaną liczbę należy zaokrąglić do dwóch miejsc po przecinku."
   ]
  },
  {
   "cell_type": "code",
   "execution_count": 46,
   "metadata": {},
   "outputs": [
    {
     "name": "stdin",
     "output_type": "stream",
     "text": [
      "Podaj nazwę drużyny:  Asdasdasdsadas\n",
      "Podaj liczbe punktów:  1\n",
      "Podaj nazwę drużyny:  sdasd\n",
      "Podaj liczbe punktów:  1238172631\n"
     ]
    },
    {
     "name": "stdout",
     "output_type": "stream",
     "text": [
      "╔═════════════════════════════════════════════════════════╗\n",
      "║         Asdasdasdsadas (1) vs sdasd (1238172631)        ║\n",
      "╠════════════════════════════╦════════════════════════════╣\n",
      "║          Różnica           ║         1238172630         ║\n",
      "╠════════════════════════════╬════════════════════════════╣\n",
      "║          Stosunek          ║            0.00            ║\n",
      "╠════════════════════════════╬════════════════════════════╣\n",
      "║        Kto lepszy?         ║           sdasd            ║\n",
      "╚════════════════════════════╩════════════════════════════╝\n"
     ]
    }
   ],
   "source": [
    "Tabelka = Porownanie()\n",
    "print(Tabelka)"
   ]
  },
  {
   "cell_type": "code",
   "execution_count": null,
   "metadata": {},
   "outputs": [],
   "source": []
  }
 ],
 "metadata": {
  "kernelspec": {
   "display_name": "Python 3",
   "language": "python",
   "name": "python3"
  },
  "language_info": {
   "codemirror_mode": {
    "name": "ipython",
    "version": 3
   },
   "file_extension": ".py",
   "mimetype": "text/x-python",
   "name": "python",
   "nbconvert_exporter": "python",
   "pygments_lexer": "ipython3",
   "version": "3.7.4"
  }
 },
 "nbformat": 4,
 "nbformat_minor": 4
}
