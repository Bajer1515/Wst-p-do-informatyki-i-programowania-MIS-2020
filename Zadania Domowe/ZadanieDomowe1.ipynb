{
 "cells": [
  {
   "cell_type": "markdown",
   "metadata": {},
   "source": [
    "Z samolotu lecącego (równolegle do podłoża) na pułapie $h_{0}$ ze stałą prędkością $v_{s}$, zrzucany jest ładunek. Z jaką prędkością początkową $v_{0}$ należy wystrzelić pocisk z działa znajdującego się w odległości $l_{0}$ od punktu zrzutu, którego lufa nachylona\n",
    "jest do poziomu pod kątem $\\alpha \\in (0^{\\circ}, 90^{\\circ})$, aby pocisk trafił w ładunek? Po jakim czasie $t$, na jakiej wysokości $h$ oraz w jakiej odległości $l$ od działa, ładunek zostanie zestrzelony? Opór powietrza zaniedbujemy.\n"
   ]
  },
  {
   "cell_type": "code",
   "execution_count": 60,
   "metadata": {},
   "outputs": [],
   "source": [
    "from math import sin, cos, radians"
   ]
  },
  {
   "cell_type": "code",
   "execution_count": 61,
   "metadata": {},
   "outputs": [
    {
     "name": "stdout",
     "output_type": "stream",
     "text": [
      "Dla pierwszego zestawu h0 = 4000 [m], l0 = 5650 [m], alfa = 63 [stopni], vs = 220 [m/s].\n",
      "Dla drugiego zestawu h0 = 8300 [m], l0 = 14000 [m], alfa = 72 [stopni], vs = 300 [m/s].\n",
      "Dla obu przypadków stosujemy, że g = 9.81 [m/s^(2)]\n"
     ]
    }
   ],
   "source": [
    "'''Zapiszę od razu ze zmienionymi jednostkami tak, by się zgadzało'''\n",
    "g = 9.81\n",
    "\n",
    "h10, l10, alfa1, v1s = 4000, 5650, 63, 220\n",
    "\n",
    "h20, l20, alfa2, v2s = 8300, 14000, 72, 300\n",
    "\n",
    "print('Dla pierwszego zestawu h0 = {h} [m], l0 = {l} [m], alfa = {a} [stopni], vs = {v} [m/s].'.format(h=h10,l=l10,a=alfa1,v=v1s))\n",
    "print('Dla drugiego zestawu h0 = {h} [m], l0 = {l} [m], alfa = {a} [stopni], vs = {v} [m/s].'.format(h=h20,l=l20,a=alfa2,v=v2s))\n",
    "print('Dla obu przypadków stosujemy, że g = {g} [m/s^(2)]'.format(g=g))\n"
   ]
  },
  {
   "cell_type": "code",
   "execution_count": 71,
   "metadata": {},
   "outputs": [],
   "source": [
    "def OdpZestawPierwszy(t1, h1, l1):\n",
    "    print('Ładunek zostanie zestrzelony po {t} sekundach'.format(t = t1))\n",
    "    print('Ładunek zostanie zestrzelony na {h} metrach'.format(h = h1))\n",
    "    print('Ładunek zostanie zestrzelony w  odległości {l} metrów.'.format(l = l1))\n",
    "    \n",
    "def OdpZestawDrugi(t2, h2, l2):\n",
    "    print('Ładunek zostanie zestrzelony po {t} sekundach'.format(t = t2))\n",
    "    print('Ładunek zostanie zestrzelony na {h} metrach'.format(h = h2))\n",
    "    print('Ładunek zostanie zestrzelony w  odległości {l} metrów.'.format(l = l2))\n",
    "    \n",
    "def ObliczV0(h0,l0,alfa,vs):\n",
    "    a = radians(alfa)\n",
    "    v0 = (h0*vs)/(l0*sin(a)-h0*cos(a))\n",
    "    return v0\n",
    "\n",
    "def RozwiazZadanie(h0,l0,alfa,vs,v0,g=g):\n",
    "    \n",
    "    a = radians(alfa)\n",
    "    t = h0/(v0*sin(a))\n",
    "    h = h0-(g*(t**2))/2\n",
    "    l = l0-vs*t\n",
    "    return t,h,l"
   ]
  },
  {
   "cell_type": "markdown",
   "metadata": {},
   "source": [
    "Policzmy teraz prędkość początkową: \n",
    "$$v_{0}=\\dfrac{h_{0}v_{s}}{l_{0}\\sin{\\alpha}-h_{0}\\cos{\\alpha}} $$"
   ]
  },
  {
   "cell_type": "code",
   "execution_count": 77,
   "metadata": {},
   "outputs": [
    {
     "name": "stdout",
     "output_type": "stream",
     "text": [
      "Pierwszy zestaw: V0 = 273.44 [m/s]\n",
      "Drugi zestaw: V0 = 231.63 [m/s]\n"
     ]
    }
   ],
   "source": [
    "v10 = ObliczV0(h10, l10, alfa1, v1s)\n",
    "v20 = ObliczV0(h20, l20, alfa2, v2s)\n",
    "\n",
    "print('Pierwszy zestaw: V0 = {:.2f} [m/s]'.format(v10))\n",
    "print('Drugi zestaw: V0 = {:.2f} [m/s]'.format(v20))"
   ]
  },
  {
   "cell_type": "markdown",
   "metadata": {},
   "source": [
    "$$t = \\dfrac{h_{0}}{v_{0}\\sin(\\alpha)}$$\n",
    "$$h = h_{0}-\\dfrac{1}{2}gt^{2}$$\n",
    "$$l = l_{0}-v_{s}t$$"
   ]
  },
  {
   "cell_type": "code",
   "execution_count": 74,
   "metadata": {},
   "outputs": [],
   "source": [
    "[t1,h1,l1] = RozwiazZadanie(h10, l10, alfa1, v1s, v10)\n",
    "[t2,h2,l2] = RozwiazZadanie(h20, l20, alfa2, v2s, v20)"
   ]
  },
  {
   "cell_type": "code",
   "execution_count": 78,
   "metadata": {},
   "outputs": [
    {
     "name": "stdout",
     "output_type": "stream",
     "text": [
      "Zestaw pierwszy: v0 = 273.44 [m/s], t = 16.42 [s], h = 2677.90 [m], l = 2038.10 [m].\n",
      "Zestaw drugi: v0 = 231.63 [m/s], t = 37.68 [s], h = 1336.99 [m], l = 2696.83 [m].\n"
     ]
    }
   ],
   "source": [
    "print('Zestaw pierwszy: v0 = {:.2f} [m/s], t = {:.2f} [s], h = {:.2f} [m], l = {:.2f} [m].'.format(v10,t1,h1,l1))\n",
    "# print('Zestaw drugi: v0 = {V0}, t = {T}, h = {H}, l = {L}.'.format(V0=v20,T=t2,H=h2,L=l2))\n",
    "print('Zestaw drugi: v0 = {:.2f} [m/s], t = {:.2f} [s], h = {:.2f} [m], l = {:.2f} [m].'.format(v20,t2,h2,l2))"
   ]
  }
 ],
 "metadata": {
  "kernelspec": {
   "display_name": "Python 3",
   "language": "python",
   "name": "python3"
  },
  "language_info": {
   "codemirror_mode": {
    "name": "ipython",
    "version": 3
   },
   "file_extension": ".py",
   "mimetype": "text/x-python",
   "name": "python",
   "nbconvert_exporter": "python",
   "pygments_lexer": "ipython3",
   "version": "3.7.4"
  }
 },
 "nbformat": 4,
 "nbformat_minor": 4
}
