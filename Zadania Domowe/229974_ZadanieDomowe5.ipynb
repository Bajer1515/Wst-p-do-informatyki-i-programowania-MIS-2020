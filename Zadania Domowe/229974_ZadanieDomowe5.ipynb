{
 "cells": [
  {
   "cell_type": "code",
   "execution_count": 13,
   "metadata": {},
   "outputs": [],
   "source": [
    "import numpy as np\n",
    "import matplotlib.pyplot as plt\n",
    "\n",
    "\n",
    "def style(cell):\n",
    "    \"\"\"style(n)\n",
    "    Funkcja sprawdzająca zgodność komórki `In[n]` notatnika\n",
    "    ze standardem stylu PEP-8.\"\"\"\n",
    "    try:\n",
    "        import pycodestyle as pep8\n",
    "    except ImportError:\n",
    "        import pep8\n",
    "    code = (In[cell]+'\\n').splitlines(True)\n",
    "    return pep8.Checker('In[{0}]'.format(cell), code).check_all()\n",
    "\n",
    "\n",
    "def mandelbrot_cell(p):\n",
    "    '''\n",
    "    Funkcja sprawdzająca przynależność liczby zespolonej do\n",
    "    zbioru Mandelbrota.\n",
    "    '''\n",
    "    N = 100\n",
    "    z = complex(0)\n",
    "    for i in range(N):\n",
    "        z = z**2 + p\n",
    "        if abs(z) >= 2:\n",
    "            return False\n",
    "    return True\n",
    "\n",
    "\n",
    "def julia_cell(p, c):\n",
    "    '''\n",
    "    Funkcja sprawdzająca przynależność liczby zespolonej do\n",
    "    zbioru Julii\n",
    "    '''\n",
    "    z = p\n",
    "    N = 100\n",
    "    for i in range(N):\n",
    "        z = z**2 + c\n",
    "        if abs(z) >= 2:\n",
    "            return False\n",
    "    return True\n",
    "\n",
    "\n",
    "def narysuj_zbior_mandelbrota():\n",
    "    '''\n",
    "    Funkcja przygotowująca zbior Mandelbrota dla zadanej przestrzeni\n",
    "    liczb zespolonych z przedziału -2<=Re(z)=<2 i -2<=Im(z)<=2\n",
    "    '''\n",
    "    X = np.linspace(-2, 2, 1000)\n",
    "    Y = np.linspace(-2, 2, 1000)\n",
    "    Z = [complex(y, x) for x in X for y in Y]\n",
    "    zbior = []\n",
    "    for z in Z:\n",
    "        zbior += [mandelbrot_cell(z)]\n",
    "    zbior = np.array(zbior).reshape(len(X), len(Y))\n",
    "    return zbior\n",
    "\n",
    "\n",
    "def narysuj_zbior_julii():\n",
    "    '''\n",
    "    Funkcja przygotowująca zbior Julii dla zadanej przestrzeni\n",
    "    liczb zespolonych z przedziału -2<=Re(z)=<2 i -2<=Im(z)<=2\n",
    "    i zadanych liczb c1 = -0.1+0.65i oraz c2 = 0.285+0.015i\n",
    "    '''\n",
    "    X = np.linspace(-2, 2, 1000)\n",
    "    Y = np.linspace(-2, 2, 1000)\n",
    "    Z = [complex(y, x) for x in X for y in Y]\n",
    "    c1 = complex(-0.1, 0.65)\n",
    "    c2 = complex(0.285, 0.015)\n",
    "    zbior1 = []\n",
    "    zbior2 = []\n",
    "    for z in Z:\n",
    "        zbior1 += [julia_cell(z, c1)]\n",
    "        zbior2 += [julia_cell(z, c2)]\n",
    "    zbior1 = np.array(zbior1).reshape(len(X), len(Y))\n",
    "    zbior2 = np.array(zbior2).reshape(len(X), len(Y))\n",
    "    return zbior1, zbior2"
   ]
  },
  {
   "cell_type": "code",
   "execution_count": 22,
   "metadata": {},
   "outputs": [
    {
     "data": {
      "text/plain": [
       "0"
      ]
     },
     "execution_count": 22,
     "metadata": {},
     "output_type": "execute_result"
    }
   ],
   "source": [
    "style(21)"
   ]
  },
  {
   "cell_type": "code",
   "execution_count": 19,
   "metadata": {},
   "outputs": [],
   "source": [
    "mandelbrot = sprawdz_zbior_mandelbrota()\n",
    "julia1, julia2 = sprawdz_zbior_julii()"
   ]
  },
  {
   "cell_type": "code",
   "execution_count": 21,
   "metadata": {},
   "outputs": [
    {
     "data": {
      "text/plain": [
       "<matplotlib.image.AxesImage at 0x248cf542988>"
      ]
     },
     "execution_count": 21,
     "metadata": {},
     "output_type": "execute_result"
    },
    {
     "data": {
      "image/png": "[encoded data removed]",
      "text/plain": [
       "<Figure size 288x288 with 1 Axes>"
      ]
     },
     "metadata": {
      "needs_background": "light"
     },
     "output_type": "display_data"
    }
   ],
   "source": [
    "%matplotlib inline\n",
    "plt.matshow(mandelbrot)"
   ]
  },
  {
   "cell_type": "code",
   "execution_count": 23,
   "metadata": {},
   "outputs": [
    {
     "data": {
      "text/plain": [
       "<matplotlib.image.AxesImage at 0x248cf976d88>"
      ]
     },
     "execution_count": 23,
     "metadata": {},
     "output_type": "execute_result"
    },
    {
     "data": {
      "image/png": "[encoded data removed]",
      "text/plain": [
       "<Figure size 288x288 with 1 Axes>"
      ]
     },
     "metadata": {
      "needs_background": "light"
     },
     "output_type": "display_data"
    }
   ],
   "source": [
    "%matplotlib inline\n",
    "plt.matshow(julia1)"
   ]
  },
  {
   "cell_type": "code",
   "execution_count": 24,
   "metadata": {},
   "outputs": [
    {
     "data": {
      "text/plain": [
       "<matplotlib.image.AxesImage at 0x248cfdaa948>"
      ]
     },
     "execution_count": 24,
     "metadata": {},
     "output_type": "execute_result"
    },
    {
     "data": {
      "image/png": "[encoded data removed]",
      "text/plain": [
       "<Figure size 288x288 with 1 Axes>"
      ]
     },
     "metadata": {
      "needs_background": "light"
     },
     "output_type": "display_data"
    }
   ],
   "source": [
    "%matplotlib inline\n",
    "plt.matshow(julia2)"
   ]
  },
  {
   "cell_type": "code",
   "execution_count": null,
   "metadata": {},
   "outputs": [],
   "source": []
  }
 ],
 "metadata": {
  "kernelspec": {
   "display_name": "Python 3",
   "language": "python",
   "name": "python3"
  },
  "language_info": {
   "codemirror_mode": {
    "name": "ipython",
    "version": 3
   },
   "file_extension": ".py",
   "mimetype": "text/x-python",
   "name": "python",
   "nbconvert_exporter": "python",
   "pygments_lexer": "ipython3",
   "version": "3.7.4"
  }
 },
 "nbformat": 4,
 "nbformat_minor": 4
}
