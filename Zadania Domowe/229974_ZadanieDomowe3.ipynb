{
 "cells": [
  {
   "cell_type": "code",
   "execution_count": 1,
   "metadata": {},
   "outputs": [],
   "source": [
    "def UpdateRachunku(lista_zakupow):\n",
    "    \n",
    "    ilosc = dict()\n",
    "    cena = dict()\n",
    "    podatek = dict()\n",
    "    \n",
    "    for item in lista_zakupow:\n",
    "        if item[0] in ilosc:\n",
    "            ilosc[str(item[0])] = ilosc[str(item[0])] + item[1]\n",
    "        else:\n",
    "            ilosc[str(item[0])] = item[1]    \n",
    "    \n",
    "    for item in lista_zakupow:\n",
    "        if item[0] not in cena:\n",
    "            cena[str(item[0])] = item[2]\n",
    "    \n",
    "    for item in lista_zakupow:\n",
    "        if item[0] not in podatek:\n",
    "            podatek[str(item[0])] = item[3]\n",
    "    \n",
    "    lista = []\n",
    "    for i in range(len(lista_zakupow)):\n",
    "        lista.append(lista_zakupow[i][0])\n",
    "\n",
    "    produkty = list(set(lista))\n",
    "    produkty.sort()\n",
    "    \n",
    "    nowa_lista = []\n",
    "    for i in produkty:\n",
    "        nowa_lista = nowa_lista + [(i, ilosc[i], cena[i], podatek[i])]\n",
    "    \n",
    "    return nowa_lista, produkty, ilosc, cena, podatek"
   ]
  },
  {
   "cell_type": "code",
   "execution_count": 2,
   "metadata": {},
   "outputs": [
    {
     "name": "stdout",
     "output_type": "stream",
     "text": [
      "Zupdate'owana lista zakupów: \n",
      " [('Banan Luz', 1.042, 4.85, 'C'), ('Cieszynskie Psz', 1, 4.99, 'A'), ('Kakao 400g', 2, 8.55, 'A'), ('Mleko św 3.2 1l', 6, 2.19, 'C'), ('Musli', 2, 7.99, 'C'), ('Ogórek szkl', 0.551, 6.99, 'C'), ('Ser krolewski', 1, 4.69, 'C'), ('Torba', 2, 0.49, 'A'), ('Utopijna mrzonka', 1, 6.66, 'D'), ('Woda mineralna', 6, 1.69, 'A')]\n"
     ]
    }
   ],
   "source": [
    "lista_zakupow=[('Mleko św 3.2 1l',3,2.19,\"C\"),('Woda mineralna',6,1.69,\"A\"),\n",
    "               ('Kakao 400g',2,8.55,\"A\"),('Mleko św 3.2 1l',1,2.19,\"C\"),\n",
    "               ('Mleko św 3.2 1l',2,2.19,\"C\"),('Cieszynskie Psz',1,4.99,\"A\"),\n",
    "               ('Ser krolewski',1,4.69,\"C\"),('Banan Luz',1.042,4.85,\"C\"),\n",
    "               ('Ogórek szkl',0.551,6.99,\"C\"),('Musli',1,7.99,\"C\"),\n",
    "               ('Torba',2,0.49,\"A\"),('Musli',1,7.99,\"C\"),\n",
    "               ('Utopijna mrzonka',1,6.66,\"D\")]\n",
    "\n",
    "nowa_lista_zakupow, produkty, ilosc, cena, podatek = UpdateRachunku(lista_zakupow)\n",
    "print('Zupdate\\'owana lista zakupów: \\n', nowa_lista_zakupow)"
   ]
  },
  {
   "cell_type": "code",
   "execution_count": 146,
   "metadata": {},
   "outputs": [],
   "source": [
    "def Sumaryczne_Kwoty_Brutto(lista):\n",
    "    Stopy_Podatkowe = {\n",
    "        'A': 0.23,\n",
    "        'B': 0.08,\n",
    "        'C': 0.05,\n",
    "        'D': 0}\n",
    "    \n",
    "    sumaryczna_kwota_brutto_A = []\n",
    "    sumaryczna_kwota_brutto_B = []\n",
    "    sumaryczna_kwota_brutto_C = []\n",
    "    sumaryczna_kwota_brutto_D = []\n",
    "    \n",
    "    for i in range(len(lista)):\n",
    "        if lista[i][3] == 'A':\n",
    "            sumaryczna_kwota_brutto_A.append(lista[i][1]*lista[i][2]+lista[i][2]*Stopy_Podatkowe['A'])\n",
    "        if lista[i][3] == 'B':\n",
    "            sumaryczna_kwota_brutto_B.append(lista[i][1]*lista[i][2]+lista[i][2]*Stopy_Podatkowe['B'])\n",
    "        if lista[i][3] == 'C':\n",
    "            sumaryczna_kwota_brutto_C.append(lista[i][1]*lista[i][2]+lista[i][2]*Stopy_Podatkowe['C'])\n",
    "        if lista[i][3] == 'D':\n",
    "            sumaryczna_kwota_brutto_D.append(lista[i][1]*lista[i][2]+lista[i][2]*Stopy_Podatkowe['D'])\n",
    "            \n",
    "    Suma_Brutto_A = sum(sumaryczna_kwota_brutto_A)\n",
    "    Suma_Brutto_B = sum(sumaryczna_kwota_brutto_B)\n",
    "    Suma_Brutto_C = sum(sumaryczna_kwota_brutto_C)\n",
    "    Suma_Brutto_D = sum(sumaryczna_kwota_brutto_D)\n",
    "    \n",
    "    Sumy_Brutto = [round(Suma_Brutto_A,2), round(Suma_Brutto_B,2), round(Suma_Brutto_C,2), round(Suma_Brutto_D,2)]\n",
    "    return Sumy_Brutto"
   ]
  },
  {
   "cell_type": "code",
   "execution_count": 147,
   "metadata": {},
   "outputs": [
    {
     "name": "stdout",
     "output_type": "stream",
     "text": [
      "Sumaryczne Kwoty Brutto:\n",
      "A: 36.83 zł\n",
      "B: 0 zł\n",
      "C: 44.05 zł\n",
      "D: 6.66 zł\n",
      "\n"
     ]
    }
   ],
   "source": [
    "Sumy_Brutto = Sumaryczne_Kwoty_Brutto(nowa_lista_zakupow)\n",
    "print(f'Sumaryczne Kwoty Brutto:\\n'\n",
    "      f'A: {Sumy_Brutto[0]} zł\\n'\n",
    "      f'B: {Sumy_Brutto[1]} zł\\n'\n",
    "      f'C: {Sumy_Brutto[2]} zł\\n'\n",
    "      f'D: {Sumy_Brutto[3]} zł\\n')"
   ]
  },
  {
   "cell_type": "code",
   "execution_count": 150,
   "metadata": {},
   "outputs": [],
   "source": [
    "def SumarycznyPodatek(lista):\n",
    "        Stopy_Podatkowe = {\n",
    "        'A': 0.23,\n",
    "        'B': 0.08,\n",
    "        'C': 0.05,\n",
    "        'D': 0}\n",
    "            \n",
    "        sumaryczny_podatek_A = []\n",
    "        sumaryczny_podatek_B = []\n",
    "        sumaryczny_podatek_C = []\n",
    "        sumaryczny_podatek_D = []\n",
    "\n",
    "        for i in range(len(lista)):\n",
    "            if lista[i][3] == 'A':\n",
    "                sumaryczny_podatek_A.append(lista[i][1]*lista[i][2]*Stopy_Podatkowe['A'])\n",
    "            if lista[i][3] == 'B':\n",
    "                sumaryczny_podatek_B.append(lista[i][1]*lista[i][2]*Stopy_Podatkowe['B'])\n",
    "            if lista[i][3] == 'C':\n",
    "                sumaryczny_podatek_C.append(lista[i][1]*lista[i][2]*Stopy_Podatkowe['C'])\n",
    "            if lista[i][3] == 'D':\n",
    "                sumaryczny_podatek_D.append(lista[i][1]*lista[i][2]*Stopy_Podatkowe['D'])\n",
    "\n",
    "        Suma_Podatku_A = sum(sumaryczny_podatek_A)\n",
    "        Suma_Podatku_B = sum(sumaryczny_podatek_B)\n",
    "        Suma_Podatku_C = sum(sumaryczny_podatek_C)\n",
    "        Suma_Podatku_D = sum(sumaryczny_podatek_D)\n",
    "        \n",
    "        Podatki = [round(Suma_Podatku_A,2), round(Suma_Podatku_B,2), round(Suma_Podatku_C,2), round(Suma_Podatku_D,2)]\n",
    "        return Podatki"
   ]
  },
  {
   "cell_type": "code",
   "execution_count": 151,
   "metadata": {},
   "outputs": [
    {
     "name": "stdout",
     "output_type": "stream",
     "text": [
      "Sumaryczny podatek dla:\n",
      "A: 7.64 zł\n",
      "B: 0 zł\n",
      "C: 2.14 zł\n",
      "D: 0.0 zł\n",
      "\n"
     ]
    }
   ],
   "source": [
    "Podatki = SumarycznyPodatek(nowa_lista_zakupow)\n",
    "print(f'Sumaryczny podatek dla:\\n'\n",
    "      f'A: {Podatki[0]} zł\\n'\n",
    "      f'B: {Podatki[1]} zł\\n'\n",
    "      f'C: {Podatki[2]} zł\\n'\n",
    "      f'D: {Podatki[3]} zł\\n')"
   ]
  },
  {
   "cell_type": "code",
   "execution_count": 154,
   "metadata": {},
   "outputs": [],
   "source": [
    "def SumaPodatkow(kwoty_podatkow):\n",
    "    return sum(kwoty_podatkow)"
   ]
  },
  {
   "cell_type": "code",
   "execution_count": 158,
   "metadata": {},
   "outputs": [
    {
     "name": "stdout",
     "output_type": "stream",
     "text": [
      "Sumaryczny podatek wynosi: 9.78 zł.\n"
     ]
    }
   ],
   "source": [
    "suma_podatkow = SumaPodatkow(Podatki)\n",
    "print(f'Sumaryczny podatek wynosi: {suma_podatkow:.2f} zł.')"
   ]
  },
  {
   "cell_type": "code",
   "execution_count": 159,
   "metadata": {},
   "outputs": [],
   "source": [
    "def SumaBrutto(Sumy_Brutto):\n",
    "    return sum(Sumy_Brutto)"
   ]
  },
  {
   "cell_type": "code",
   "execution_count": 162,
   "metadata": {},
   "outputs": [
    {
     "name": "stdout",
     "output_type": "stream",
     "text": [
      "Za zakupy trzeba zapłacić 87.54 zł brutto.\n"
     ]
    }
   ],
   "source": [
    "brutto = SumaBrutto(Sumy_Brutto)\n",
    "print(f'Za zakupy trzeba zapłacić {brutto:.2f} zł brutto.')"
   ]
  }
 ],
 "metadata": {
  "kernelspec": {
   "display_name": "Python 3",
   "language": "python",
   "name": "python3"
  },
  "language_info": {
   "codemirror_mode": {
    "name": "ipython",
    "version": 3
   },
   "file_extension": ".py",
   "mimetype": "text/x-python",
   "name": "python",
   "nbconvert_exporter": "python",
   "pygments_lexer": "ipython3",
   "version": "3.7.4"
  }
 },
 "nbformat": 4,
 "nbformat_minor": 4
}
