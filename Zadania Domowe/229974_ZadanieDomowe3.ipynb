{
 "cells": [
  {
   "cell_type": "code",
   "execution_count": 1,
   "metadata": {},
   "outputs": [],
   "source": [
    "def style(cell):\n",
    "    \"\"\"style(n)\n",
    "    Funkcja sprawdzająca zgodność komórki `In[n]` notatnika\n",
    "    ze standardem stylu PEP-8.\"\"\"\n",
    "    try:\n",
    "        import pycodestyle as pep8\n",
    "    except ImportError:\n",
    "        import pep8\n",
    "    code = (In[cell]+'\\n').splitlines(True)\n",
    "    return pep8.Checker('In[{0}]'.format(cell), code).check_all()"
   ]
  },
  {
   "cell_type": "code",
   "execution_count": 2,
   "metadata": {},
   "outputs": [],
   "source": [
    "def nowy_rachunek(lista_zakupow):\n",
    "    '''\n",
    "    Funkcja, która jako argument przyjmuje listę zakupów w postaci\n",
    "    listy krotek (produkt, ilość, cena, klasa podatkowa) i zwraca\n",
    "    nową listę zakupów z uwzględnieniem powtarzających się pozycji,\n",
    "    które ilości są sumowane.\n",
    "    '''\n",
    "    ilosc = dict()\n",
    "    cena = dict()\n",
    "    podatek = dict()\n",
    "    for item in lista_zakupow:\n",
    "        if item[0] in ilosc:\n",
    "            ilosc[str(item[0])] = ilosc[str(item[0])] + item[1]\n",
    "        else:\n",
    "            ilosc[str(item[0])] = item[1]\n",
    "    for item in lista_zakupow:\n",
    "        if item[0] not in cena:\n",
    "            cena[str(item[0])] = item[2]\n",
    "    for item in lista_zakupow:\n",
    "        if item[0] not in podatek:\n",
    "            podatek[str(item[0])] = item[3]\n",
    "    lista = []\n",
    "    for i in range(len(lista_zakupow)):\n",
    "        lista.append(lista_zakupow[i][0])\n",
    "    produkty = list(set(lista))\n",
    "    produkty.sort()\n",
    "    nowa_lista = []\n",
    "    for i in produkty:\n",
    "        nowa_lista = nowa_lista + [(i, ilosc[i], cena[i], podatek[i])]\n",
    "    return nowa_lista, produkty, ilosc, cena, podatek\n",
    "\n",
    "\n",
    "def sumaryczne_kwoty_brutto(lista):\n",
    "    '''\n",
    "    Funkcja, wyliczająca kwotę brutto za zakupy dla każdego\n",
    "    rodzaju opodatkowania.\n",
    "    Argumenty: uporządkowana lista zakupów bez zduplikowanych\n",
    "    pozycji.\n",
    "    Wynik: lista zawierająca zsumowane kwoty (zaokrąglone do\n",
    "    2 miejsca po przecinku) o zapłacenia uwzględniając rodzaj\n",
    "    opodatkowania, np.:\n",
    "    sumy_brutto[0] zwróci kwotę brutto dla opodatkowania \"A\"\n",
    "    sumy_brutto[1] zwróci kwotę brutto dla opodatkowania \"B\"\n",
    "    sumy_brutto[2] zwróci kwotę brutto dla opodatkowania \"C\"\n",
    "    sumy_brutto[3] zwróci kwotę brutto dla opodatkowania \"D\"\n",
    "    '''\n",
    "    sumaryczna_kwota_brutto_A = []\n",
    "    sumaryczna_kwota_brutto_B = []\n",
    "    sumaryczna_kwota_brutto_C = []\n",
    "    sumaryczna_kwota_brutto_D = []\n",
    "    for i in range(len(lista)):\n",
    "        if lista[i][3] == 'A':\n",
    "            sumaryczna_kwota_brutto_A.append(lista[i][1]*lista[i][2])\n",
    "        if lista[i][3] == 'B':\n",
    "            sumaryczna_kwota_brutto_B.append(lista[i][1]*lista[i][2])\n",
    "        if lista[i][3] == 'C':\n",
    "            sumaryczna_kwota_brutto_C.append(lista[i][1]*lista[i][2])\n",
    "        if lista[i][3] == 'D':\n",
    "            sumaryczna_kwota_brutto_D.append(lista[i][1]*lista[i][2])\n",
    "    suma_brutto_A = sum(sumaryczna_kwota_brutto_A)\n",
    "    suma_brutto_B = sum(sumaryczna_kwota_brutto_B)\n",
    "    suma_brutto_C = sum(sumaryczna_kwota_brutto_C)\n",
    "    suma_brutto_D = sum(sumaryczna_kwota_brutto_D)\n",
    "    sumy_brutto = [round(suma_brutto_A, 2), round(suma_brutto_B, 2),\n",
    "                   round(suma_brutto_C, 2), round(suma_brutto_D, 2)]\n",
    "    return sumy_brutto\n",
    "\n",
    "\n",
    "def sumaryczny_podatek(lista):\n",
    "    '''Funkcja zwracająca sumaryczny podatek dla poszczególnych\n",
    "    rodzajów opodatkowania.\n",
    "    Argument: uporządkowana lista rachunków.\n",
    "    Wynik: lista zawierająca sumaryczną kwotę podatku dla\n",
    "    poszczególnych rodzajów opodatkowania w kolejności alfabetycznej'''\n",
    "    stopy_podatkowe = {\n",
    "        'A': 0.23,\n",
    "        'B': 0.08,\n",
    "        'C': 0.05,\n",
    "        'D': 0}\n",
    "    sumaryczny_podatek_A = []\n",
    "    sumaryczny_podatek_B = []\n",
    "    sumaryczny_podatek_C = []\n",
    "    sumaryczny_podatek_D = []\n",
    "    for i in range(len(lista)):\n",
    "        if lista[i][3] == 'A':\n",
    "            podatekA = lista[i][1]*lista[i][2] -\\\n",
    "                lista[i][1]*lista[i][2]/(1+stopy_podatkowe['A'])\n",
    "            sumaryczny_podatek_A.append(podatekA)\n",
    "        if lista[i][3] == 'B':\n",
    "            podatekB = lista[i][1]*lista[i][2] -\\\n",
    "                lista[i][1]*lista[i][2]/(1+stopy_podatkowe['B'])\n",
    "            sumaryczny_podatek_B.append(podatekB)\n",
    "        if lista[i][3] == 'C':\n",
    "            podatekC = lista[i][1]*lista[i][2] -\\\n",
    "                lista[i][1]*lista[i][2]/(1+stopy_podatkowe['C'])\n",
    "            sumaryczny_podatek_C.append(podatekC)\n",
    "        if lista[i][3] == 'D':\n",
    "            podatekD = lista[i][1]*lista[i][2] -\\\n",
    "                lista[i][1]*lista[i][2]/(1+stopy_podatkowe['D'])\n",
    "            sumaryczny_podatek_D.append(podatekD)\n",
    "    suma_podatku_A = sum(sumaryczny_podatek_A)\n",
    "    suma_podatku_B = sum(sumaryczny_podatek_B)\n",
    "    suma_podatku_C = sum(sumaryczny_podatek_C)\n",
    "    suma_podatku_D = sum(sumaryczny_podatek_D)\n",
    "    podatki = [round(suma_podatku_A, 2), round(suma_podatku_B, 2),\n",
    "               round(suma_podatku_C, 2), round(suma_podatku_D, 2)]\n",
    "    return podatki\n",
    "\n",
    "\n",
    "def suma_podatkow(kwoty_podatkow):\n",
    "    '''Funkcja zwracająca sumę podatków.\n",
    "    Argumenty: lista zawierająca zsumowane kwoty podatku\n",
    "    dla poszczególnych rodzajów opodatkowania.'''\n",
    "    return sum(kwoty_podatkow)\n",
    "\n",
    "\n",
    "def suma_brutto(sumy_brutto):\n",
    "    '''Funkcja zwracająca kwotę brutto do zapłacenia.\n",
    "    Argument: lista zawierająca sumy brutto dla poszczególnych\n",
    "    rodzajów opodatkowania\n",
    "    Wynik: kwota brutto do zapłacenia'''\n",
    "    return sum(sumy_brutto)\n",
    "\n",
    "\n",
    "def paragon(lista_zakupow, podatki, sumy_brutto):\n",
    "    napis = 'PARAGON FISKALNY'\n",
    "    naglowek = '{:^60}'.format(napis)\n",
    "    n = len(naglowek)\n",
    "    kropki = n*'.'+'\\n'\n",
    "    linia = []\n",
    "    for item in nowa_lista_zakupow:\n",
    "        if (type(item[1]) == float):\n",
    "            linia = linia + ['{:<36} {:>10.3f}x{:<3.2f} zł{:>5} \\n'.\n",
    "                             format(item[0], item[1], item[2], item[3])]\n",
    "        else:\n",
    "            linia = linia + ['{:<36} {:>10}x{:<3.2f} zł{:>5} \\n'.\n",
    "                             format(item[0], item[1], item[2], item[3])]\n",
    "    paragon = naglowek + '\\n'\n",
    "    for i in range(len(linia)):\n",
    "        wiersz = linia[i]\n",
    "        paragon = paragon + wiersz\n",
    "    wiersz_A = 'Sp. op. A' + '{:>18}'.format(sumy_brutto[0])+' PTU'+11*' '\\\n",
    "        + '23%'+'{:>12} zł\\n'.format(podatki[0]) if podatki[0] > 0 else \"\"\n",
    "    wiersz_B = 'Sp. op. B' + '{:>18}'.format(sumy_brutto[1])+' PTU'+12*' '\\\n",
    "        + '8%'+'{:>12} zł\\n'.format(podatki[1]) if podatki[1] > 0 else \"\"\n",
    "    wiersz_C = 'Sp. op. C' + '{:>18}'.format(sumy_brutto[2])+' PTU'+12*' '\\\n",
    "        + '5%'+'{:>12} zł\\n'.format(podatki[2]) if podatki[2] > 0 else \"\"\n",
    "    wiersz_D = 'Sp. op. D' + '{:>18}'.format(sumy_brutto[3])+' PTU'+12*' '\\\n",
    "        + '0%'+'{:>12} zł\\n'.format(podatki[3]) if podatki[3] > 0 else \"\"\n",
    "    suma = 'SUMA PTU'+'{:>49} zł\\n'.format(sum(podatki))\n",
    "    podsumowanie = 'SUMA PTU'+'{:>49} zł\\n'.format(sum(sumy_brutto))\n",
    "    paragon = paragon + kropki + wiersz_A + wiersz_B + wiersz_C + wiersz_D\\\n",
    "        + suma + kropki + podsumowanie\n",
    "    return paragon"
   ]
  },
  {
   "cell_type": "code",
   "execution_count": 3,
   "metadata": {},
   "outputs": [],
   "source": [
    "lista_zakupow=[('Mleko św 3.2 1l',3,2.19,\"C\"),('Woda mineralna',6,1.69,\"A\"),\n",
    "               ('Kakao 400g',2,8.55,\"A\"),('Mleko św 3.2 1l',1,2.19,\"C\"),\n",
    "               ('Mleko św 3.2 1l',2,2.19,\"C\"),('Cieszynskie Psz',1,4.99,\"A\"),\n",
    "               ('Ser krolewski',1,4.69,\"C\"),('Banan Luz',1.042,4.85,\"C\"),\n",
    "               ('Ogórek szkl',0.551,6.99,\"C\"),('Musli',1,7.99,\"C\"),\n",
    "               ('Torba',2,0.49,\"A\"),('Musli',1,7.99,\"C\"),\n",
    "               ('Utopijna mrzonka',1,6.66,\"D\")]"
   ]
  },
  {
   "cell_type": "code",
   "execution_count": 4,
   "metadata": {},
   "outputs": [
    {
     "name": "stdout",
     "output_type": "stream",
     "text": [
      "Zaktualizowana lista zakupów: \n",
      " [('Banan Luz', 1.042, 4.85, 'C'), ('Cieszynskie Psz', 1, 4.99, 'A'), ('Kakao 400g', 2, 8.55, 'A'), ('Mleko św 3.2 1l', 6, 2.19, 'C'), ('Musli', 2, 7.99, 'C'), ('Ogórek szkl', 0.551, 6.99, 'C'), ('Ser krolewski', 1, 4.69, 'C'), ('Torba', 2, 0.49, 'A'), ('Utopijna mrzonka', 1, 6.66, 'D'), ('Woda mineralna', 6, 1.69, 'A')]\n"
     ]
    }
   ],
   "source": [
    "nowa_lista_zakupow,produkty,ilosc,cena,podatek = nowy_rachunek(lista_zakupow)\n",
    "print('Zaktualizowana lista zakupów: \\n', nowa_lista_zakupow)"
   ]
  },
  {
   "cell_type": "code",
   "execution_count": 5,
   "metadata": {},
   "outputs": [
    {
     "name": "stdout",
     "output_type": "stream",
     "text": [
      "Sumaryczne Kwoty Brutto:\n",
      "A: 33.21 zł\n",
      "B: 0 zł\n",
      "C: 42.72 zł\n",
      "D: 6.66 zł\n",
      "\n"
     ]
    }
   ],
   "source": [
    "sumy_brutto = sumaryczne_kwoty_brutto(nowa_lista_zakupow)\n",
    "print(f'Sumaryczne Kwoty Brutto:\\n'\n",
    "      f'A: {sumy_brutto[0]} zł\\n'\n",
    "      f'B: {sumy_brutto[1]} zł\\n'\n",
    "      f'C: {sumy_brutto[2]} zł\\n'\n",
    "      f'D: {sumy_brutto[3]} zł\\n')"
   ]
  },
  {
   "cell_type": "code",
   "execution_count": 6,
   "metadata": {},
   "outputs": [
    {
     "name": "stdout",
     "output_type": "stream",
     "text": [
      "Sumaryczny podatek dla:\n",
      "A: 6.21 zł\n",
      "B: 0 zł\n",
      "C: 2.03 zł\n",
      "D: 0.0 zł\n",
      "\n"
     ]
    }
   ],
   "source": [
    "podatki = sumaryczny_podatek(nowa_lista_zakupow)\n",
    "print(f'Sumaryczny podatek dla:\\n'\n",
    "      f'A: {podatki[0]} zł\\n'\n",
    "      f'B: {podatki[1]} zł\\n'\n",
    "      f'C: {podatki[2]} zł\\n'\n",
    "      f'D: {podatki[3]} zł\\n')"
   ]
  },
  {
   "cell_type": "code",
   "execution_count": 7,
   "metadata": {},
   "outputs": [
    {
     "name": "stdout",
     "output_type": "stream",
     "text": [
      "Sumaryczny podatek wynosi: 8.24 zł.\n"
     ]
    }
   ],
   "source": [
    "suma_P = suma_podatkow(podatki)\n",
    "print(f'Sumaryczny podatek wynosi: {suma_P:.2f} zł.')"
   ]
  },
  {
   "cell_type": "code",
   "execution_count": 8,
   "metadata": {},
   "outputs": [
    {
     "name": "stdout",
     "output_type": "stream",
     "text": [
      "Za zakupy trzeba zapłacić 82.59 zł brutto.\n"
     ]
    }
   ],
   "source": [
    "brutto = suma_brutto(sumy_brutto)\n",
    "print(f'Za zakupy trzeba zapłacić {brutto:.2f} zł brutto.')"
   ]
  },
  {
   "cell_type": "code",
   "execution_count": 10,
   "metadata": {},
   "outputs": [
    {
     "name": "stdout",
     "output_type": "stream",
     "text": [
      "                      PARAGON FISKALNY                      \n",
      "Banan Luz                                 1.042x4.85 zł    C \n",
      "Cieszynskie Psz                               1x4.99 zł    A \n",
      "Kakao 400g                                    2x8.55 zł    A \n",
      "Mleko św 3.2 1l                               6x2.19 zł    C \n",
      "Musli                                         2x7.99 zł    C \n",
      "Ogórek szkl                               0.551x6.99 zł    C \n",
      "Ser krolewski                                 1x4.69 zł    C \n",
      "Torba                                         2x0.49 zł    A \n",
      "Utopijna mrzonka                              1x6.66 zł    D \n",
      "Woda mineralna                                6x1.69 zł    A \n",
      "............................................................\n",
      "Sp. op. A             33.21 PTU           23%        6.21 zł\n",
      "Sp. op. C             42.72 PTU            5%        2.03 zł\n",
      "SUMA PTU                                             8.24 zł\n",
      "............................................................\n",
      "SUMA PTU                                            82.59 zł\n",
      "\n"
     ]
    }
   ],
   "source": [
    "paragon = paragon(nowa_lista_zakupow, podatki, sumy_brutto)\n",
    "print(paragon)"
   ]
  },
  {
   "cell_type": "code",
   "execution_count": null,
   "metadata": {},
   "outputs": [],
   "source": []
  }
 ],
 "metadata": {
  "kernelspec": {
   "display_name": "Python 3",
   "language": "python",
   "name": "python3"
  },
  "language_info": {
   "codemirror_mode": {
    "name": "ipython",
    "version": 3
   },
   "file_extension": ".py",
   "mimetype": "text/x-python",
   "name": "python",
   "nbconvert_exporter": "python",
   "pygments_lexer": "ipython3",
   "version": "3.7.4"
  }
 },
 "nbformat": 4,
 "nbformat_minor": 4
}
