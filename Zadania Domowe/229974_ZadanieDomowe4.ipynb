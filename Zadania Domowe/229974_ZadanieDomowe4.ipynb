{
 "cells": [
  {
   "cell_type": "code",
   "execution_count": 171,
   "metadata": {},
   "outputs": [],
   "source": [
    "def style(cell):\n",
    "    \"\"\"style(n)\n",
    "    Funkcja sprawdzająca zgodność komórki `In[n]` notatnika\n",
    "    ze standardem stylu PEP-8.\"\"\"\n",
    "    try:\n",
    "        import pycodestyle as pep8\n",
    "    except ImportError:\n",
    "        import pep8\n",
    "    code = (In[cell]+'\\n').splitlines(True)\n",
    "    return pep8.Checker('In[{0}]'.format(cell), code).check_all()\n",
    "\n",
    "\n",
    "def pascal(n=1, trojkat=True):\n",
    "    '''\n",
    "    Funkcja pascal wylicza poszczególne szczeble Piramidy Pascala.\n",
    "    \n",
    "    Argumenty: \n",
    "    * n - liczba stopni piramidy liczona od 0. \n",
    "    * trojkat - typ: bool.\n",
    "\n",
    "    Rezultat:\n",
    "    * pascal() zwróci listę [[1],[1,1]] dla domyślnych argumentów (1,True)\n",
    "    * pascal(n, trojkat):\n",
    "        - dla wartości (n, True) zwróci listę wszystkich przygotowanych\n",
    "        szczebli piramidy.\n",
    "        - dla wartości (n, False) zwróci ostatni przygotowany szczebel. \n",
    "    '''\n",
    "    lista = []\n",
    "    for i in range(n+1):\n",
    "        lista.append([])\n",
    "        lista[i].append(1)\n",
    "        for j in range(1,i):\n",
    "            lista[i].append(lista[i-1][j-1]+lista[i-1][j])\n",
    "        if i!=0:  \n",
    "            lista[i].append(1)\n",
    "    if trojkat == True:\n",
    "        return lista\n",
    "    else: \n",
    "        return lista[-1]\n",
    "\n",
    "def newton(a):\n",
    "    if a == 1:\n",
    "        return \"\"\n",
    "    else:\n",
    "        return \"{}*\".format(a)\n",
    "\n",
    "\n",
    "def pascal_napis(n=1, x='x', y='y'):\n",
    "    piramida = pascal(n)\n",
    "    wspolczynniki = piramida[-1]\n",
    "    l = len(wspolczynniki)\n",
    "    napis = []\n",
    "    for i in range(l):\n",
    "        wspolczynnik = newton(wspolczynniki[i])\n",
    "        if i == 0:\n",
    "            napis.append(\"{}{y}{}\".format(wspolczynnik,'^'+str(l-1-i) if l-1-1 > 1 else '', y=y))\n",
    "        elif i == l-1:\n",
    "            napis.append(\"{}{x}{}\".format(wspolczynnik,'^'+str(i) if i>1 else '', x=x))\n",
    "        else:\n",
    "            napis.append( \"{}{x}{}*{y}{}\".format(wspolczynnik, '^'+str(i) if i>1 else '', '^'+str(l-1-i) if l-1-i > 1 else '', x=x, y=y))\n",
    "    napis_caly = \" + \".join(napis)\n",
    "    return napis_caly\n",
    "\n",
    "\n",
    "def piramida_pascal(n=1):\n",
    "    '''\n",
    "    Funkcja piramida_pascal() zwraca piramidę pascala przemnożoną przez jej ostatni wiersz.\n",
    "    Argumenty: \n",
    "    * n: liczba stopni piramidy.\n",
    "    Wynik: przemnożona piramida pascala.\n",
    "    '''\n",
    "    piramida = pascal(n)\n",
    "    iloczyny = piramida[-1]\n",
    "    nowa_piramida = []\n",
    "    for i in range(len(piramida)):\n",
    "        x = iloczyny[i]\n",
    "        wiersz = piramida[i]\n",
    "        nowa_piramida.append([x * el for el in wiersz]) \n",
    "    return nowa_piramida\n",
    "\n",
    "\n",
    "def piramida_pasca_napis(n=1, x='x', y='y', z='z'):\n",
    "    return\n"
   ]
  },
  {
   "cell_type": "code",
   "execution_count": 172,
   "metadata": {},
   "outputs": [
    {
     "output_type": "stream",
     "name": "stdout",
     "text": [
      "############### Zadanie 1 ###############\nEfekt działania dla wartości domyślnych: \n\n[1]\n[1, 1]\nEfekt działania dla n = 2 i trojkat = True: \n\n[1]\n[1, 1]\n[1, 2, 1]\nEfekt działania dla n = 3 i trojkat = False: \n [1, 10, 45, 120, 210, 252, 210, 120, 45, 10, 1]\n"
     ]
    }
   ],
   "source": [
    "print(15*'#' + ' Zadanie 1 ' + 15*'#')\n",
    "l1 = pascal()\n",
    "print('Efekt działania dla wartości domyślnych: \\n', *l1, sep=\"\\n\")\n",
    "l2 = pascal(2)\n",
    "print('Efekt działania dla n = 2 i trojkat = True: \\n', *l2, sep='\\n')\n",
    "l3 = pascal(10, False)\n",
    "print('Efekt działania dla n = 3 i trojkat = False: \\n', l3)"
   ]
  },
  {
   "cell_type": "code",
   "execution_count": 170,
   "metadata": {},
   "outputs": [
    {
     "output_type": "stream",
     "name": "stdout",
     "text": [
      "############### Zadanie 2 ###############\n1\n20\n190\n1140\n4845\n15504\n38760\n77520\n125970\n167960\n184756\n167960\n125970\n77520\n38760\n15504\n4845\n1140\n190\n20\n1\n1\n10\n45\n120\n210\n252\n210\n120\n45\n10\n1\n1\n20\n190\n1140\n4845\n15504\n38760\n77520\n125970\n167960\n184756\n167960\n125970\n77520\n38760\n15504\n4845\n1140\n190\n20\n1\nRezultat 1:  True \nRezultat 2:  True \nRezultat 3:  True\n"
     ]
    }
   ],
   "source": [
    "print(15*'#' + ' Zadanie 2 ' + 15*'#')\n",
    "wynik1 = eval(pascal_napis(20, \"6\", \"9\").replace(\"^\", \"**\")) == 15**20\n",
    "wynik2 = eval(pascal_napis(10, \"3\", \"1\").replace(\"^\", \"**\")) == 4**10\n",
    "wynik3 = eval(pascal_napis(20, \"6\", \"(-2)\").replace(\"^\", \"**\")) == 4**20    # 1 048 576\n",
    "print('Rezultat 1: ', wynik1, '\\nRezultat 2: ', wynik2, '\\nRezultat 3: ', wynik3)"
   ]
  },
  {
   "cell_type": "code",
   "execution_count": 165,
   "metadata": {},
   "outputs": [
    {
     "output_type": "stream",
     "name": "stdout",
     "text": [
      "############### Zadanie 3 ###############\nEfekt działania dla n = 4\n\n[1]\n[4, 4]\n[6, 12, 6]\n[4, 12, 12, 4]\n[1, 4, 6, 4, 1]\n"
     ]
    }
   ],
   "source": [
    "print(15*'#' + ' Zadanie 3 ' + 15*'#')\n",
    "Zad3 = piramida_pascal(4)\n",
    "print('Efekt działania dla n = 4\\n', *Zad3, sep='\\n')"
   ]
  },
  {
   "cell_type": "code",
   "execution_count": 105,
   "metadata": {},
   "outputs": [
    {
     "output_type": "stream",
     "name": "stdout",
     "text": [
      "############### Zadanie 4 ###############\n"
     ]
    }
   ],
   "source": [
    "print(15*'#' + ' Zadanie 4 ' + 15*'#')"
   ]
  }
 ],
 "metadata": {
  "kernelspec": {
   "display_name": "Python 3",
   "language": "python",
   "name": "python3"
  },
  "language_info": {
   "codemirror_mode": {
    "name": "ipython",
    "version": 3
   },
   "file_extension": ".py",
   "mimetype": "text/x-python",
   "name": "python",
   "nbconvert_exporter": "python",
   "pygments_lexer": "ipython3",
   "version": "3.7.6-final"
  }
 },
 "nbformat": 4,
 "nbformat_minor": 4
}