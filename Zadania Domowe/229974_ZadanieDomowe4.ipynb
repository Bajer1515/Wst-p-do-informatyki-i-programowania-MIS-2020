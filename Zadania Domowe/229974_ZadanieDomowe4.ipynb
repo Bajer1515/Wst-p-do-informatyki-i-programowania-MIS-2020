{
 "cells": [
  {
   "cell_type": "code",
   "execution_count": 17,
   "metadata": {},
   "outputs": [],
   "source": [
    "def pascal(n=1, trojkat=True):\n",
    "    '''\n",
    "    Funkcja pascal wylicza poszczególne szczeble Piramidy Pascala.\n",
    "    \n",
    "    Argumenty: \n",
    "    * n - liczba stopni piramidy liczona od 0. \n",
    "    * trojkat - typ: bool.\n",
    "\n",
    "    Rezultat:\n",
    "    * pascal() zwróci listę [[1],[1,1]] dla domyślnych argumentów (1,True)\n",
    "    * pascal(n, trojkat):\n",
    "        - dla wartości (n, True) zwróci listę wszystkich przygotowanych\n",
    "        szczebli piramidy.\n",
    "        - dla wartości (n, False) zwróci ostatni przygotowany szczebel. \n",
    "    '''\n",
    "    lista = []\n",
    "    for i in range(n+1):\n",
    "        lista.append([])\n",
    "        lista[i].append(1)\n",
    "        for j in range(1,i):\n",
    "            lista[i].append(lista[i-1][j-1]+lista[i-1][j])\n",
    "        if i!=0:\n",
    "            lista[i].append(1)\n",
    "    if trojkat == True:\n",
    "        return lista\n",
    "    else: \n",
    "        return lista[-1]\n",
    "\n",
    "\n",
    "# Zadanie 3 TBD\n",
    "def piramida_pascal(n=1):\n",
    "    ''' '''\n",
    "    lista = []\n",
    "    for i in range(n+1):\n",
    "        lista.append([])\n",
    "        lista[i].append(1)\n",
    "        for j in range(1,i):\n",
    "            lista[i].append((lista[i-1][j-1]+lista[i-1][j]))\n",
    "        if i!=0:\n",
    "            lista[i].append(1)\n",
    "    return lista\n",
    "\n",
    "\n"
   ]
  },
  {
   "cell_type": "code",
   "execution_count": 9,
   "metadata": {},
   "outputs": [
    {
     "output_type": "stream",
     "name": "stdout",
     "text": [
      "Efekt działania dla wartości domyślnych: \n [[1], [1, 1]]\nEfekt działania dla n = 2 i trojkat = True: \n [[1], [1, 1], [1, 2, 1]]\nEfekt działania dla n = 3 i trojkat = False: \n [1, 3, 3, 1]\n"
     ]
    }
   ],
   "source": [
    "l1 = pascal()\n",
    "print('Efekt działania dla wartości domyślnych: \\n', l1)\n",
    "l2 = pascal(2)\n",
    "print('Efekt działania dla n = 2 i trojkat = True: \\n', l2)\n",
    "l3 = pascal(3, False)\n",
    "print('Efekt działania dla n = 3 i trojkat = False: \\n', l3)\n"
   ]
  },
  {
   "cell_type": "code",
   "execution_count": 14,
   "metadata": {},
   "outputs": [
    {
     "output_type": "stream",
     "name": "stdout",
     "text": [
      "[[1], [1, 1], [1, 8, 1], [1, 36, 36, 1]]\n"
     ]
    }
   ],
   "source": [
    "l4 = piramida_pascal(3)\n",
    "print(l4)"
   ]
  },
  {
   "cell_type": "code",
   "execution_count": null,
   "metadata": {},
   "outputs": [],
   "source": []
  }
 ],
 "metadata": {
  "kernelspec": {
   "display_name": "Python 3",
   "language": "python",
   "name": "python3"
  },
  "language_info": {
   "codemirror_mode": {
    "name": "ipython",
    "version": 3
   },
   "file_extension": ".py",
   "mimetype": "text/x-python",
   "name": "python",
   "nbconvert_exporter": "python",
   "pygments_lexer": "ipython3",
   "version": "3.7.6-final"
  }
 },
 "nbformat": 4,
 "nbformat_minor": 4
}