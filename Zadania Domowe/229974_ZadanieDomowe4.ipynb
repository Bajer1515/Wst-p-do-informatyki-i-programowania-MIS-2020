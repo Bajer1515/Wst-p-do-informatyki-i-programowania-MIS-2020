{
 "cells": [
  {
   "cell_type": "code",
   "execution_count": 20,
   "metadata": {},
   "outputs": [],
   "source": [
    "def style(cell):\n",
    "    \"\"\"style(n)\n",
    "    Funkcja sprawdzająca zgodność komórki `In[n]` notatnika\n",
    "    ze standardem stylu PEP-8.\"\"\"\n",
    "    try:\n",
    "        import pycodestyle as pep8\n",
    "    except ImportError:\n",
    "        import pep8\n",
    "    code = (In[cell]+'\\n').splitlines(True)\n",
    "    return pep8.Checker('In[{0}]'.format(cell), code).check_all()\n",
    "\n",
    "\n",
    "def pascal(n=1, trojkat=True):\n",
    "    '''\n",
    "    Funkcja pascal wylicza poszczególne szczeble Piramidy Pascala.\n",
    "\n",
    "    Argumenty:\n",
    "    * n (int): liczba stopni piramidy liczona od 0.\n",
    "    * trojkat (bool): definiuje czy chcemy ostatni wiersz czy całą piramidę.\n",
    "    ************************************************************************\n",
    "    Przykłady użycia:\n",
    "    * pascal() zwróci listę [[1],[1,1]] dla domyślnych argumentów (1,True)\n",
    "    * pascal(n, trojkat):\n",
    "        - dla wartości (n, True) zwróci listę wszystkich przygotowanych\n",
    "        szczebli piramidy.\n",
    "        - dla wartości (n, False) zwróci ostatni przygotowany szczebel.\n",
    "    '''\n",
    "    lista = []\n",
    "    for i in range(n+1):\n",
    "        lista.append([])\n",
    "        lista[i].append(1)\n",
    "        for j in range(1, i):\n",
    "            lista[i].append(lista[i-1][j-1]+lista[i-1][j])\n",
    "        if i != 0:\n",
    "            lista[i].append(1)\n",
    "    if trojkat:\n",
    "        return lista\n",
    "    else:\n",
    "        return lista[-1]\n",
    "\n",
    "\n",
    "def newton(w):\n",
    "    '''Funkcja zwracająca współczynniki newtona różne od 1\n",
    "    Argumenty:\n",
    "    * w (int): wartość kolejnego współczynnika\n",
    "    '''\n",
    "    if w == 1:\n",
    "        return \"\"\n",
    "    else:\n",
    "        return \"{}*\".format(w)\n",
    "\n",
    "\n",
    "def war(x):\n",
    "    '''\n",
    "    Funkcja zwracająca wykładnik lub pusty napis w zależności\n",
    "    czy jest on większy od 1.\n",
    "    '''\n",
    "    return '^'+str(x) if x > 1 else ''\n",
    "\n",
    "\n",
    "def pascal_napis(n=1, x='x', y='y'):\n",
    "    '''\n",
    "    Funkcja zwracająca rozwinięcie dwumianu newtona bez liczenia\n",
    "    jego wartości.\n",
    "    Argumenty:\n",
    "    * n (int): stopień potęgi\n",
    "    * x,y (str): zmienne lub ich wartości w postaci napisu.\n",
    "    '''\n",
    "    piramida = pascal(n)\n",
    "    wspolczynniki = piramida[-1]\n",
    "    dl = len(wspolczynniki)\n",
    "    napis = []\n",
    "    for i in range(dl):\n",
    "        ey = dl-1-i\n",
    "        ex = i\n",
    "        wspolczynnik = newton(wspolczynniki[i])\n",
    "        if i == 0:\n",
    "            napis.append('{}{y}{}'.format(wspolczynnik,\n",
    "                         war(ey), y=y))\n",
    "        elif i == dl-1:\n",
    "            napis.append('{}{x}{}'.format(wspolczynnik,\n",
    "                         war(ex), x=x))\n",
    "        else:\n",
    "            napis.append('{}{x}{}*{y}{}'.format(wspolczynnik,\n",
    "                war(ex), war(ey), x=x, y=y))\n",
    "    napis_caly = ' + '.join(napis[::-1])\n",
    "    return napis_caly\n",
    "\n",
    "\n",
    "def piramida_pascal(n=1):\n",
    "    '''\n",
    "    Funkcja piramida_pascal() zwraca piramidę pascala\n",
    "    przemnożoną przez jej ostatni wiersz.\n",
    "    Argumenty:\n",
    "    * n: liczba stopni piramidy.\n",
    "    '''\n",
    "    piramida = pascal(n)\n",
    "    iloczyny = piramida[-1]\n",
    "    nowa_piramida = []\n",
    "    for i in range(len(piramida)):\n",
    "        x = iloczyny[i]\n",
    "        wiersz = piramida[i]\n",
    "        nowa_piramida.append([x * el for el in wiersz])\n",
    "    return nowa_piramida\n",
    "\n",
    "\n",
    "def piramida_pascal_napis(n=1, x='x', y='y', z='z'):\n",
    "    '''\n",
    "    Funkcja zwracająca rozwinięcie funkcji postaci (x+y+z)^n.\n",
    "    Argumenty:\n",
    "    * n (int): stopień potęgi\n",
    "    * x,y,z (str,int): zmienne lub ich wartości jako napisy.\n",
    "    '''\n",
    "    piramida = piramida_pascal(n)\n",
    "    napis = []\n",
    "    d = len(piramida)\n",
    "    for i in range(d):\n",
    "        wspolczynniki = piramida[i]\n",
    "        for j in range(i+1):\n",
    "            ex, ey, ez = n-i, j, i-j\n",
    "            wspolczynnik = newton(wspolczynniki[j])\n",
    "            if ex != 0 and ey == 0 and ez == 0:\n",
    "                napis.append('{}{x}{}'.format(wspolczynnik,\n",
    "                             war(ex), x=x))\n",
    "            elif ex == 0 and ey != 0 and ez == 0:\n",
    "                napis.append('{}{y}{}'.format(wspolczynnik,\n",
    "                             war(ey), y=y))\n",
    "            elif ex == 0 and ey == 0 and ez != 0:\n",
    "                napis.append('{}{z}{}'.format(wspolczynnik,\n",
    "                             war(ez), z=z))\n",
    "            elif ex != 0 and ey != 0 and ez == 0:\n",
    "                napis.append('{}{x}{}*{y}{}'.format(wspolczynnik,\n",
    "                             war(ex), war(ey), x=x, y=y))\n",
    "            elif ex != 0 and ey == 0 and ez != 0:\n",
    "                napis.append('{}{x}{}*{z}{}'.format(wspolczynnik,\n",
    "                             war(ex), war(ez), x=x, z=z))\n",
    "            elif ex == 0 and ey != 0 and ez != 0:\n",
    "                napis.append('{}{y}{}*{z}{}'.format(wspolczynnik,\n",
    "                             war(ey), war(ez), y=y, z=z))\n",
    "            else:\n",
    "                napis.append('{}{x}{}*{y}{}*{z}{}'.format(wspolczynnik,\n",
    "                             war(ex), war(ey), war(ez), x=x, y=y, z=z))\n",
    "    napis_caly = ' + '.join(napis)\n",
    "    return napis_caly\n"
   ]
  },
  {
   "cell_type": "code",
   "execution_count": 21,
   "metadata": {},
   "outputs": [
    {
     "name": "stdout",
     "output_type": "stream",
     "text": [
      "############### Zadanie 1 ###############\n",
      "Efekt działania dla wartości domyślnych: \n",
      "\n",
      "[1]\n",
      "[1, 1]\n",
      "Efekt działania dla n = 2 i trojkat = True: \n",
      "\n",
      "[1]\n",
      "[1, 1]\n",
      "[1, 2, 1]\n",
      "Efekt działania dla n = 3 i trojkat = False: \n",
      " [1, 3, 3, 1]\n"
     ]
    }
   ],
   "source": [
    "print(15*'#' + ' Zadanie 1 ' + 15*'#')\n",
    "l1 = pascal()\n",
    "print('Efekt działania dla wartości domyślnych: \\n', *l1, sep=\"\\n\")\n",
    "l2 = pascal(2)\n",
    "print('Efekt działania dla n = 2 i trojkat = True: \\n', *l2, sep='\\n')\n",
    "l3 = pascal(3, False)\n",
    "print('Efekt działania dla n = 3 i trojkat = False: \\n', l3)"
   ]
  },
  {
   "cell_type": "code",
   "execution_count": 22,
   "metadata": {},
   "outputs": [
    {
     "name": "stdout",
     "output_type": "stream",
     "text": [
      "x^10 + 10*x^9*y + 45*x^8*y^2 + 120*x^7*y^3 + 210*x^6*y^4 + 252*x^5*y^5 + 210*x^4*y^6 + 120*x^3*y^7 + 45*x^2*y^8 + 10*x*y^9 + y^10\n"
     ]
    }
   ],
   "source": [
    "piram = pascal_napis(10, 'x', 'y')\n",
    "print(piram)"
   ]
  },
  {
   "cell_type": "code",
   "execution_count": 23,
   "metadata": {},
   "outputs": [
    {
     "name": "stdout",
     "output_type": "stream",
     "text": [
      "############### Zadanie 2 ###############\n",
      "x^10 + 10*x^9*y + 45*x^8*y^2 + 120*x^7*y^3 + 210*x^6*y^4 + 252*x^5*y^5 + 210*x^4*y^6 + 120*x^3*y^7 + 45*x^2*y^8 + 10*x*y^9 + y^10\n",
      "Rezultat 1:  True \n",
      "Rezultat 2:  True \n",
      "Rezultat 3:  True\n"
     ]
    }
   ],
   "source": [
    "print(15*'#' + ' Zadanie 2 ' + 15*'#')\n",
    "piram = pascal_napis(10, 'x', 'y')\n",
    "print(piram)\n",
    "wynik1 = eval(pascal_napis(20, \"6\", \"9\").replace(\"^\", \"**\")) == 15**20\n",
    "wynik2 = eval(pascal_napis(10, \"3\", \"1\").replace(\"^\", \"**\")) == 4**10\n",
    "wynik3 = eval(pascal_napis(20, \"6\", \"(-2)\").replace(\"^\", \"**\")) == 4**20\n",
    "print('Rezultat 1: ', wynik1,\n",
    "      '\\nRezultat 2: ', wynik2,\n",
    "      '\\nRezultat 3: ', wynik3)"
   ]
  },
  {
   "cell_type": "code",
   "execution_count": 24,
   "metadata": {},
   "outputs": [
    {
     "name": "stdout",
     "output_type": "stream",
     "text": [
      "############### Zadanie 3 ###############\n",
      "Efekt działania dla n = 4\n",
      "\n",
      "[1]\n",
      "[4, 4]\n",
      "[6, 12, 6]\n",
      "[4, 12, 12, 4]\n",
      "[1, 4, 6, 4, 1]\n"
     ]
    }
   ],
   "source": [
    "print(15*'#' + ' Zadanie 3 ' + 15*'#')\n",
    "Zad3 = piramida_pascal(4)\n",
    "print('Efekt działania dla n = 4\\n', *Zad3, sep='\\n')"
   ]
  },
  {
   "cell_type": "code",
   "execution_count": 25,
   "metadata": {},
   "outputs": [
    {
     "name": "stdout",
     "output_type": "stream",
     "text": [
      "############### Zadanie 4 ###############\n",
      "Efekt wywołania pierwszego przykładu: \n",
      " x^2 + 2*x*z + 2*x*y + z^2 + 2*y*z + y^2\n",
      "Efekt wywołania drugiego przykładu: \n",
      " a^4 + 4*a^3*c + 4*a^3*b + 6*a^2*c^2 + 12*a^2*b*c + 6*a^2*b^2 + 4*a*c^3 + 12*a*b*c^2 + 12*a*b^2*c + 4*a*b^3 + c^4 + 4*b*c^3 + 6*b^2*c^2 + 4*b^3*c + b^4\n"
     ]
    }
   ],
   "source": [
    "print(15*'#' + ' Zadanie 4 ' + 15*'#')\n",
    "w1 = piramida_pascal_napis(2)\n",
    "w2 = piramida_pascal_napis(4, 'a', 'b', 'c')\n",
    "print('Efekt wywołania pierwszego przykładu: \\n', w1)\n",
    "print('Efekt wywołania drugiego przykładu: \\n', w2)"
   ]
  },
  {
   "cell_type": "code",
   "execution_count": 26,
   "metadata": {},
   "outputs": [
    {
     "name": "stdout",
     "output_type": "stream",
     "text": [
      "Rezultat 1: True\n",
      "Rezultat 2: True\n",
      "Rezultat 3: True\n",
      "Rezultat 4: True\n",
      "Rezultat 5: True\n"
     ]
    }
   ],
   "source": [
    "w1 = eval(pascal_napis(20, \"6\", \"9\").replace(\"^\", \"**\")) == 15**20\n",
    "w2 = eval(pascal_napis(10, \"3\", \"1\").replace(\"^\", \"**\")) == 4**10\n",
    "w3 = eval(pascal_napis(20, \"6\", \"(-2)\").replace(\"^\", \"**\")) == 4**20\n",
    "w4 = eval(piramida_pascal_napis(10, '1', '1', '1').replace(\"^\", \"**\")) == 59049\n",
    "w5 = eval(piramida_pascal_napis(20, '1', '0', '1').replace(\"^\", \"**\")) == 1024**2\n",
    "\n",
    "print(f'Rezultat 1: {w1}\\n'\n",
    "      f'Rezultat 2: {w2}\\n'\n",
    "      f'Rezultat 3: {w3}\\n'\n",
    "      f'Rezultat 4: {w4}\\n'\n",
    "      f'Rezultat 5: {w5}')\n"
   ]
  },
  {
   "cell_type": "code",
   "execution_count": null,
   "metadata": {},
   "outputs": [],
   "source": []
  }
 ],
 "metadata": {
  "kernelspec": {
   "display_name": "Python 3",
   "language": "python",
   "name": "python3"
  },
  "language_info": {
   "codemirror_mode": {
    "name": "ipython",
    "version": 3
   },
   "file_extension": ".py",
   "mimetype": "text/x-python",
   "name": "python",
   "nbconvert_exporter": "python",
   "pygments_lexer": "ipython3",
   "version": "3.7.4"
  }
 },
 "nbformat": 4,
 "nbformat_minor": 4
}
