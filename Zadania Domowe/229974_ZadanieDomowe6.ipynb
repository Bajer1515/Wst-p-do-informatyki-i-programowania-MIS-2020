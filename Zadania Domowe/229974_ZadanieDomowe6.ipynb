{
 "cells": [
  {
   "cell_type": "code",
   "execution_count": 38,
   "metadata": {},
   "outputs": [],
   "source": [
    "import numpy as np\n",
    "import matplotlib.pyplot as plt\n",
    "\n",
    "\n",
    "def style(cell):\n",
    "    \"\"\"style(n)\n",
    "    Funkcja sprawdzająca zgodność komórki `In[n]` notatnika\n",
    "    ze standardem stylu PEP-8.\"\"\"\n",
    "    try:\n",
    "        import pycodestyle as pep8\n",
    "    except ImportError:\n",
    "        import pep8\n",
    "    code = (In[cell]+'\\n').splitlines(True)\n",
    "    return pep8.Checker('In[{0}]'.format(cell), code).check_all()\n",
    "\n",
    "\n",
    "def catalan(n):\n",
    "    if n == 0 or n == 1:\n",
    "        return 1\n",
    "    catalan = [0 for i in range(n + 1)]\n",
    "    catalan[0] = 1\n",
    "    catalan[1] = 1\n",
    "    for i in range(2, n + 1):\n",
    "        catalan[i] = 0\n",
    "        for j in range(i):\n",
    "            catalan[i] = catalan[i] + catalan[j] * catalan[i-j-1]\n",
    "    return catalan[n]\n",
    "\n",
    "\n",
    "def liczby_catalana(n):\n",
    "    '''\n",
    "    Funkcja przygotowująca listę liczb catalana'''\n",
    "    lista_liczb = []\n",
    "    lista_liczb.append(catalan(n))\n",
    "    return lista_liczb[-1]\n",
    "\n",
    "\n",
    "def stirling_f(n):\n",
    "    '''\n",
    "    Funkcja wyliczająca wartość funkcji stirlinga\n",
    "    dla zadanego n.\n",
    "    '''\n",
    "    f = (4**n)/((n**(3/2))*np.sqrt(np.pi))\n",
    "    return f\n",
    "\n",
    "\n",
    "def parametry_zadanie_1():\n",
    "    '''\n",
    "    Funkcja przygotowująca parametry wykresu oraz\n",
    "    poszczególne wartości pokazane na wykresie.\n",
    "    '''\n",
    "    cat, S, cf, N = [], [], [], []\n",
    "    for i in range(1, 152, 10):\n",
    "        cat.append(liczby_catalana(i))\n",
    "        S.append(stirling_f(i))\n",
    "        cf.append(cat[-1]/S[-1])\n",
    "    N.append(1)\n",
    "    for i in range(1, 15):\n",
    "        N.append('$n_{{{i}}}$'.format(i=i))\n",
    "    N.append(151)\n",
    "    X, Y = [], []\n",
    "    for x in range(1, 152, 10):\n",
    "        X.append(x)\n",
    "        Y.append(1)\n",
    "    opis_y = [cf[0]]\n",
    "    for i in range(1, len(cf)):\n",
    "        if cf[i]-cf[i-1] > 0.04:\n",
    "            opis_y.append(cf[i])\n",
    "    opis_y.append(int(1))\n",
    "    return X, Y, N, cf, opis_y\n",
    "\n",
    "\n",
    "def stirling(n):\n",
    "    '''\n",
    "    Funkcja wylicza przybliżenie Stirling'a\n",
    "    '''\n",
    "    s = np.sqrt(2*np.pi*n)*((n/np.e)**n)\n",
    "    return s\n",
    "\n",
    "\n",
    "def ramanujan(n):\n",
    "    '''\n",
    "    Funkcja wylicza przybliżenie Ramanujan'a\n",
    "    '''\n",
    "    r = np.sqrt(np.pi)*((n/np.e)**n)*((8*(n**3)+4*(n**2)+n+(1/30))**(1/6))\n",
    "    return r\n",
    "\n",
    "\n",
    "def burnside(n):\n",
    "    '''\n",
    "    Funkcja wylicza przybliżenie Burnside'a\n",
    "    '''\n",
    "    b = np.sqrt(2*np.pi)*((n+0.5)/np.e)**(n+0.5)\n",
    "    return(b)\n",
    "\n",
    "\n",
    "def wyznacz_min_n(lista, dokladna_wartosc, eps):\n",
    "    '''\n",
    "    Funkcja wyznacza najmniejszą wartość n, dla której\n",
    "    blad przyblizenia jest mniejszy od zadanego epsilona.\n",
    "    '''\n",
    "    m = len(lista)\n",
    "    for i in range(m):\n",
    "        przyblizenie = abs(lista[i] - dokladna_wartosc)\n",
    "        if przyblizenie <= eps:\n",
    "            min_n = i + 2\n",
    "            break\n",
    "    return min_n\n",
    "\n",
    "\n",
    "def parametry_zadanie_2(eps=0.0006):\n",
    "    '''\n",
    "    Funkcja przygotowująca parametry do wykresu.\n",
    "    Oblicza iloraz silni i jej przybliżenia oraz\n",
    "    wyznacza najmniejsze n, dla którego błąd przybliżenia\n",
    "    jest mniejszy niż zadany epsilon.\n",
    "    '''\n",
    "    X, Sti, Ram, Bur = [], [], [], []\n",
    "    for i in range(2, 151):\n",
    "        silnia = m.factorial(i)\n",
    "        Sti.append(silnia/stirling(i))\n",
    "        Ram.append(silnia/ramanujan(i))\n",
    "        Bur.append(silnia/burnside(i))\n",
    "        X.append(i)\n",
    "    min_s = wyznacz_min_n(Sti, 1, eps)\n",
    "    min_r = wyznacz_min_n(Ram, 1, eps)\n",
    "    min_b = wyznacz_min_n(Bur, 1, eps)\n",
    "    opis_y = [1-10*eps, 1, 1+10*eps]\n",
    "    opis_y_str = ['$1-10\\epsilon$', '1', '$1+10\\epsilon$']\n",
    "    return X, N, Sti, Ram, Bur, min_s, min_r, min_b, y, y_str\n"
   ]
  },
  {
   "cell_type": "code",
   "execution_count": 19,
   "metadata": {
    "tags": []
   },
   "outputs": [
    {
     "data": {
      "text/plain": [
       "([<matplotlib.axis.YTick at 0x1d3aa7be648>,\n",
       "  <matplotlib.axis.YTick at 0x1d3a98a3b88>,\n",
       "  <matplotlib.axis.YTick at 0x1d3aa747e88>,\n",
       "  <matplotlib.axis.YTick at 0x1d3aa9cf388>],\n",
       " <a list of 4 Text yticklabel objects>)"
      ]
     },
     "execution_count": 19,
     "metadata": {},
     "output_type": "execute_result"
    },
    {
     "data": {
      "image/png": "[encoded data removed]",
      "text/plain": [
       "<Figure size 432x288 with 1 Axes>"
      ]
     },
     "metadata": {
      "needs_background": "light"
     },
     "output_type": "display_data"
    }
   ],
   "source": [
    "X, Y, N, cf, opis_y = parametry_zadanie_1()\n",
    "\n",
    "plt.title('Iloraz $C_{n}$/f(n)')\n",
    "plt.xlabel('Wartość $n_{i}$')\n",
    "plt.xlim(-5, 160)\n",
    "plt.ylim(0.4, 1.1,)\n",
    "plt.plot(X, cf, 'r:', color='blue')\n",
    "plt.plot(X, cf, 'bs', markersize=6, markerfacecolor='r')\n",
    "plt.plot(X, Y, '--', color='grey')\n",
    "plt.xticks(X, N)\n",
    "plt.yticks(opis_y, [f'{y:.2f}' for y in opis_y[:-1]] + [f'{opis_y[-1]}'])"
   ]
  },
  {
   "cell_type": "code",
   "execution_count": 39,
   "metadata": {},
   "outputs": [],
   "source": [
    "X, N, Sti, Ram, Bur, ns, nr, nb, y, y_str = parametry_zadanie_2()"
   ]
  },
  {
   "cell_type": "code",
   "execution_count": 40,
   "metadata": {},
   "outputs": [
    {
     "data": {
      "text/plain": [
       "([<matplotlib.axis.YTick at 0x1d3ac6a8608>,\n",
       "  <matplotlib.axis.YTick at 0x1d3ac6cc7c8>,\n",
       "  <matplotlib.axis.YTick at 0x1d3ac6f5908>],\n",
       " <a list of 3 Text yticklabel objects>)"
      ]
     },
     "execution_count": 40,
     "metadata": {},
     "output_type": "execute_result"
    },
    {
     "data": {
      "image/png": "[encoded data removed]",
      "text/plain": [
       "<Figure size 432x288 with 1 Axes>"
      ]
     },
     "metadata": {
      "needs_background": "light"
     },
     "output_type": "display_data"
    }
   ],
   "source": [
    "plt.title('Porównanie wzorów przybliżających wartość n!')\n",
    "plt.plot(X, Sti, '.', markersize=5, color='blue', label='Stirling')\n",
    "plt.vlines(ns, 0.980, 1.05, colors='blue', linestyles='dashdot')\n",
    "plt.plot(X, Ram, '.', markersize=5, color='red', label='Ramanujan')\n",
    "plt.vlines(nr, 0.980, 1.05, colors='red', linestyles='dashdot')\n",
    "plt.plot(X, Bur, '.', markersize=5, color='black', label='Burnside')\n",
    "plt.vlines(nb, 0.980, 1.05, colors='black', linestyles='dashdot')\n",
    "plt.xlabel('n')\n",
    "plt.xlim(-5, 155)\n",
    "plt.ylim(0.975, 1.055)\n",
    "plt.legend(bbox_to_anchor=(0.84, 0.95), loc='upper right')\n",
    "plt.xticks([ns, nr, nb])\n",
    "plt.yticks(y, y_str)"
   ]
  },
  {
   "cell_type": "code",
   "execution_count": null,
   "metadata": {},
   "outputs": [],
   "source": []
  }
 ],
 "metadata": {
  "kernelspec": {
   "display_name": "Python 3",
   "language": "python",
   "name": "python3"
  },
  "language_info": {
   "codemirror_mode": {
    "name": "ipython",
    "version": 3
   },
   "file_extension": ".py",
   "mimetype": "text/x-python",
   "name": "python",
   "nbconvert_exporter": "python",
   "pygments_lexer": "ipython3",
   "version": "3.7.4"
  }
 },
 "nbformat": 4,
 "nbformat_minor": 4
}
