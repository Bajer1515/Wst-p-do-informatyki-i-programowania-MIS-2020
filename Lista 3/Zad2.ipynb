{
 "cells": [
  {
   "cell_type": "markdown",
   "metadata": {},
   "source": [
    "Zad 2\n",
    "\n",
    "Używając znaku $\\#$ stwórz szachownicę. Użytkownik powinien mieć możliwość zmiany wielkości (wysokość, szerokość) szachownicy. Np. dla szerokość = 6 i wysokość = 3.\n",
    "\n",
    "Uwaga! Do wyświetlenia napisu powinieneś użyć tylko jednego wywołania funkcji $print()$."
   ]
  },
  {
   "cell_type": "code",
   "execution_count": 31,
   "metadata": {},
   "outputs": [],
   "source": [
    "n = 6 # Szerokość\n",
    "m = 3 # Wysokość\n",
    "l = 2*n+1\n",
    "pelny = l*'#'+'\\n'\n",
    "mieszany = n*'# '+'#\\n'\n",
    "podwojny = mieszany + pelny"
   ]
  },
  {
   "cell_type": "code",
   "execution_count": 32,
   "metadata": {},
   "outputs": [
    {
     "name": "stdout",
     "output_type": "stream",
     "text": [
      "#############\n",
      "# # # # # # #\n",
      "#############\n",
      "# # # # # # #\n",
      "#############\n",
      "# # # # # # #\n",
      "#############\n",
      "\n"
     ]
    }
   ],
   "source": [
    "print(pelny + m*podwojny)"
   ]
  }
 ],
 "metadata": {
  "kernelspec": {
   "display_name": "Python 3",
   "language": "python",
   "name": "python3"
  },
  "language_info": {
   "codemirror_mode": {
    "name": "ipython",
    "version": 3
   },
   "file_extension": ".py",
   "mimetype": "text/x-python",
   "name": "python",
   "nbconvert_exporter": "python",
   "pygments_lexer": "ipython3",
   "version": "3.7.4"
  }
 },
 "nbformat": 4,
 "nbformat_minor": 4
}
