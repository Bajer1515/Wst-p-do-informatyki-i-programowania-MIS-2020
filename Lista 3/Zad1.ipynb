{
 "cells": [
  {
   "cell_type": "markdown",
   "metadata": {},
   "source": [
    "Zad 1.\n",
    "\n",
    "Uzywając podstawowych operacji na napisach w Pythonie stwórz figurę składającą się z dwóch jednakowych prostokątów, jeden nad drugim. Uzytkownik powinien mieć możliwość wyboru wysokości i szerokości figury. Np. Dla szerokość = 5, wysokość = 4.\n",
    "\n",
    "Uwaga! Do wyświetlenia napisu powinieneś użyć tylko jednego wywołania funkcji $print()$."
   ]
  },
  {
   "cell_type": "code",
   "execution_count": 97,
   "metadata": {},
   "outputs": [],
   "source": [
    "n = 10\n",
    "m = 20\n",
    "pelny = (n+2)*'X'\n",
    "pusty = 'X' + n*' ' + 'X'"
   ]
  },
  {
   "cell_type": "code",
   "execution_count": 18,
   "metadata": {},
   "outputs": [
    {
     "name": "stdout",
     "output_type": "stream",
     "text": [
      "XXXXXXXXXXXX\n",
      "X          X\n",
      "X          X\n",
      "X          X\n",
      "X          X\n",
      "X          X\n",
      "X          X\n",
      "X          X\n",
      "X          X\n",
      "X          X\n",
      "X          X\n",
      "XXXXXXXXXXXX\n",
      "X          X\n",
      "X          X\n",
      "X          X\n",
      "X          X\n",
      "X          X\n",
      "X          X\n",
      "X          X\n",
      "X          X\n",
      "X          X\n",
      "X          X\n",
      "XXXXXXXXXXXX\n"
     ]
    }
   ],
   "source": [
    "print(pelny+'\\n' + (m//2)*(pusty+'\\n') + pelny+'\\n' + (m//2)*(pusty+'\\n') + pelny)"
   ]
  }
 ],
 "metadata": {
  "kernelspec": {
   "display_name": "Python 3",
   "language": "python",
   "name": "python3"
  },
  "language_info": {
   "codemirror_mode": {
    "name": "ipython",
    "version": 3
   },
   "file_extension": ".py",
   "mimetype": "text/x-python",
   "name": "python",
   "nbconvert_exporter": "python",
   "pygments_lexer": "ipython3",
   "version": "3.7.4"
  }
 },
 "nbformat": 4,
 "nbformat_minor": 4
}
