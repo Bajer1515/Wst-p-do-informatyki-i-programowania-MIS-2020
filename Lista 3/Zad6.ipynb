{
 "cells": [
  {
   "cell_type": "markdown",
   "metadata": {},
   "source": [
    "Zad 6\n",
    "\n",
    "Stwórz skrypt, który po pobraniu wartości oznaczającej liczbę sekund zapisze ją w formacie godziny, minuty i sekundy. Liczby i odpowiednie napisy powinny być wypisane pionowo, oraz liczby powinny być wyrównane do prawej strony."
   ]
  },
  {
   "cell_type": "code",
   "execution_count": 6,
   "metadata": {},
   "outputs": [],
   "source": [
    "def RozbijNaSMH():\n",
    "    t = int(input('Podaj czas w sekundach do rozbicia: '))\n",
    "    \n",
    "    sekundy = t % 60\n",
    "    minuty = int(t/60) % 60\n",
    "    godziny = int (t/3600)\n",
    "    \n",
    "    return sekundy, minuty, godziny"
   ]
  },
  {
   "cell_type": "code",
   "execution_count": 13,
   "metadata": {},
   "outputs": [
    {
     "name": "stdin",
     "output_type": "stream",
     "text": [
      "Podaj czas w sekundach do rozbicia:  12345678\n"
     ]
    },
    {
     "name": "stdout",
     "output_type": "stream",
     "text": [
      "Godziny 3429\n",
      "Minuty    21\n",
      "Sekundy   18\n",
      "\n"
     ]
    }
   ],
   "source": [
    "s,m,h = RozbijNaSMH()\n",
    "\n",
    "print('Godziny {:>4}\\n'.format(h) + 'Minuty {:>5}\\n'.format(m) + 'Sekundy {:>4}\\n'.format(s))"
   ]
  }
 ],
 "metadata": {
  "kernelspec": {
   "display_name": "Python 3",
   "language": "python",
   "name": "python3"
  },
  "language_info": {
   "codemirror_mode": {
    "name": "ipython",
    "version": 3
   },
   "file_extension": ".py",
   "mimetype": "text/x-python",
   "name": "python",
   "nbconvert_exporter": "python",
   "pygments_lexer": "ipython3",
   "version": "3.7.4"
  }
 },
 "nbformat": 4,
 "nbformat_minor": 4
}
