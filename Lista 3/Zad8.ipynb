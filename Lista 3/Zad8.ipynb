{
 "cells": [
  {
   "cell_type": "markdown",
   "metadata": {},
   "source": [
    "Zad 8\n",
    "\n",
    "Stwórz skrypt, który w podanym tekście zamieni wszystkie litery “a” na \"*\", opuszczając pierwsze i ostatnie wystąpienie.\n",
    "\n",
    "Przykład:\n",
    "\n",
    "ala ma kota kota koat\n",
    "\n",
    "al* m* kot* kot* koat"
   ]
  },
  {
   "cell_type": "code",
   "execution_count": 27,
   "metadata": {},
   "outputs": [
    {
     "name": "stdout",
     "output_type": "stream",
     "text": [
      "al* m* kot* kot* koat\n"
     ]
    }
   ],
   "source": [
    "string = 'ala ma kota kota koat'\n",
    "n = len(string)\n",
    "zdanie = list(string)\n",
    "\n",
    "# print(zdanie.find('a'))\n",
    "\n",
    "counter = zdanie.count('a')\n",
    "count = 0\n",
    "\n",
    "for i in range(n):\n",
    "    if zdanie[i] == 'a':\n",
    "        count += 1\n",
    "    if zdanie[i] == 'a' and (count > 1 and count < counter):\n",
    "        zdanie[i] = '*'\n",
    "        \n",
    "zdanie = ''.join(zdanie)\n",
    "print(zdanie)"
   ]
  },
  {
   "cell_type": "code",
   "execution_count": null,
   "metadata": {},
   "outputs": [],
   "source": []
  }
 ],
 "metadata": {
  "kernelspec": {
   "display_name": "Python 3",
   "language": "python",
   "name": "python3"
  },
  "language_info": {
   "codemirror_mode": {
    "name": "ipython",
    "version": 3
   },
   "file_extension": ".py",
   "mimetype": "text/x-python",
   "name": "python",
   "nbconvert_exporter": "python",
   "pygments_lexer": "ipython3",
   "version": "3.7.4"
  }
 },
 "nbformat": 4,
 "nbformat_minor": 4
}
