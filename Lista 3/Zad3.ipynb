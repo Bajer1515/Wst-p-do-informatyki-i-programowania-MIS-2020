{
 "cells": [
  {
   "cell_type": "markdown",
   "metadata": {},
   "source": [
    "Zad 3\n",
    "\n",
    "Sprawdź czy podane przez użytkownika słowo jest palindromem. Jeżeli słowo okaże się być palindromem to powinien pojawić sić komunikat “Słowo jest palindromem”, oraz “Słowo nie jest palindromem” w przeciwnym razie. (Wskazówka: Zauważ, że komunikaty są bardzo podobne do siebie i różnią się słowem “nie”; Wyrażenie warunkowe). Wykorzystaj funkcję $input()$."
   ]
  },
  {
   "cell_type": "code",
   "execution_count": 45,
   "metadata": {},
   "outputs": [
    {
     "name": "stdin",
     "output_type": "stream",
     "text": [
      "Podaj slowo:  kajak\n"
     ]
    },
    {
     "name": "stdout",
     "output_type": "stream",
     "text": [
      "To jest palindrom!\n"
     ]
    }
   ],
   "source": [
    "slowo = input('Podaj slowo: ')\n",
    "\n",
    "x = slowo[::-1]==slowo\n",
    "y = 'To jest palindrom!' if x else 'To nie jest palindrom!'\n",
    "print(y)\n"
   ]
  }
 ],
 "metadata": {
  "kernelspec": {
   "display_name": "Python 3",
   "language": "python",
   "name": "python3"
  },
  "language_info": {
   "codemirror_mode": {
    "name": "ipython",
    "version": 3
   },
   "file_extension": ".py",
   "mimetype": "text/x-python",
   "name": "python",
   "nbconvert_exporter": "python",
   "pygments_lexer": "ipython3",
   "version": "3.7.4"
  }
 },
 "nbformat": 4,
 "nbformat_minor": 4
}
