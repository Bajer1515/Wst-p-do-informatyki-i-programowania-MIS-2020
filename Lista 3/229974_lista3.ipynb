{
 "cells": [
  {
   "cell_type": "markdown",
   "metadata": {},
   "source": [
    "Zad 1 "
   ]
  },
  {
   "cell_type": "code",
   "execution_count": 97,
   "metadata": {},
   "outputs": [],
   "source": [
    "n = 10\n",
    "m = 20\n",
    "pelny = (n+2)*'X'\n",
    "pusty = 'X' + n*' ' + 'X'"
   ]
  },
  {
   "cell_type": "code",
   "execution_count": 18,
   "metadata": {},
   "outputs": [
    {
     "name": "stdout",
     "output_type": "stream",
     "text": [
      "XXXXXXXXXXXX\n",
      "X          X\n",
      "X          X\n",
      "X          X\n",
      "X          X\n",
      "X          X\n",
      "X          X\n",
      "X          X\n",
      "X          X\n",
      "X          X\n",
      "X          X\n",
      "XXXXXXXXXXXX\n",
      "X          X\n",
      "X          X\n",
      "X          X\n",
      "X          X\n",
      "X          X\n",
      "X          X\n",
      "X          X\n",
      "X          X\n",
      "X          X\n",
      "X          X\n",
      "XXXXXXXXXXXX\n"
     ]
    }
   ],
   "source": [
    "print(pelny+'\\n' + (m//2)*(pusty+'\\n') + pelny+'\\n' + (m//2)*(pusty+'\\n') + pelny)"
   ]
  },
  {
   "cell_type": "markdown",
   "metadata": {},
   "source": [
    "Zad 2"
   ]
  },
  {
   "cell_type": "code",
   "execution_count": 31,
   "metadata": {},
   "outputs": [],
   "source": [
    "n = 6 # Szerokość\n",
    "m = 3 # Wysokość\n",
    "l = 2*n+1\n",
    "pelny = l*'#'+'\\n'\n",
    "mieszany = n*'# '+'#\\n'\n",
    "podwojny = mieszany + pelny"
   ]
  },
  {
   "cell_type": "code",
   "execution_count": 32,
   "metadata": {},
   "outputs": [
    {
     "name": "stdout",
     "output_type": "stream",
     "text": [
      "#############\n",
      "# # # # # # #\n",
      "#############\n",
      "# # # # # # #\n",
      "#############\n",
      "# # # # # # #\n",
      "#############\n",
      "\n"
     ]
    }
   ],
   "source": [
    "print(pelny + m*podwojny)"
   ]
  },
  {
   "cell_type": "markdown",
   "metadata": {},
   "source": [
    "Zad 3"
   ]
  },
  {
   "cell_type": "code",
   "execution_count": 45,
   "metadata": {},
   "outputs": [
    {
     "name": "stdin",
     "output_type": "stream",
     "text": [
      "Podaj slowo:  kajak\n"
     ]
    },
    {
     "name": "stdout",
     "output_type": "stream",
     "text": [
      "To jest palindrom!\n"
     ]
    }
   ],
   "source": [
    "slowo = input('Podaj slowo: ')\n",
    "\n",
    "x = slowo[::-1]==slowo\n",
    "y = 'To jest palindrom!' if x else 'To nie jest palindrom!'\n",
    "print(y)\n"
   ]
  },
  {
   "cell_type": "markdown",
   "metadata": {},
   "source": [
    "Zad 4"
   ]
  },
  {
   "cell_type": "code",
   "execution_count": 56,
   "metadata": {},
   "outputs": [
    {
     "data": {
      "text/plain": [
       "tuple"
      ]
     },
     "execution_count": 56,
     "metadata": {},
     "output_type": "execute_result"
    }
   ],
   "source": [
    "krotka = (\"Adam\",)\n",
    "type(krotka)"
   ]
  },
  {
   "cell_type": "code",
   "execution_count": 60,
   "metadata": {},
   "outputs": [
    {
     "name": "stdout",
     "output_type": "stream",
     "text": [
      "Student: A. K. Bajerowicz\n",
      "Wiek: 24\n"
     ]
    }
   ],
   "source": [
    "krotka = ('Adam', 'Krystian','Bajerowicz', 24)\n",
    "print('Student: ' + str(krotka[0][0])+'. ' + str(krotka[1][0])+'. '+str(krotka[2]))\n",
    "print('Wiek: '+str(krotka[3]))"
   ]
  },
  {
   "cell_type": "code",
   "execution_count": 80,
   "metadata": {},
   "outputs": [
    {
     "data": {
      "text/plain": [
       "'a$b$r$a$k$a$d$a$b$r$a'"
      ]
     },
     "execution_count": 80,
     "metadata": {},
     "output_type": "execute_result"
    }
   ],
   "source": [
    "slowo = 'abrakadabra'\n",
    "\"$\".join(slowo)"
   ]
  },
  {
   "cell_type": "markdown",
   "metadata": {},
   "source": [
    "Zad 5"
   ]
  },
  {
   "cell_type": "code",
   "execution_count": 96,
   "metadata": {},
   "outputs": [
    {
     "name": "stdin",
     "output_type": "stream",
     "text": [
      "Podaj a:  3\n",
      "Podaj b:  4\n"
     ]
    },
    {
     "name": "stdout",
     "output_type": "stream",
     "text": [
      "3 + 4 = 7\n",
      "3 - 4 = -1\n",
      "3 * 4 = 12\n",
      "3 / 4 = 0.75\n",
      "\n"
     ]
    }
   ],
   "source": [
    "a = int(input('Podaj a: '))\n",
    "b = int(input('Podaj b: '))\n",
    "\n",
    "dodawanie = a+b\n",
    "odejmowanie = a-b\n",
    "mnozenie = a*b\n",
    "dzielenie = a/b\n",
    "\n",
    "print(f'{a} + {b} = {dodawanie}\\n'\n",
    "      f'{a} - {b} = {odejmowanie}\\n'\n",
    "      f'{a} * {b} = {mnozenie}\\n'\n",
    "      f'{a} / {b} = {dzielenie:.2f}\\n')\n",
    "\n",
    "\n",
    "#print('{A} + {B} = {:.2f}\\n'.format(dodawanie,A=a,B=b)+\n",
    "#       '{} - {} = {:.2f}\\n'.format(a,b,odejmowanie)+\n",
    "#       '{} * {} = {:.2f}\\n'.format(a,b,mnozenie)+\n",
    "#       '{} / {} = {:.2f}'.format(a,b,dzielenie))"
   ]
  }
 ],
 "metadata": {
  "kernelspec": {
   "display_name": "Python 3",
   "language": "python",
   "name": "python3"
  },
  "language_info": {
   "codemirror_mode": {
    "name": "ipython",
    "version": 3
   },
   "file_extension": ".py",
   "mimetype": "text/x-python",
   "name": "python",
   "nbconvert_exporter": "python",
   "pygments_lexer": "ipython3",
   "version": "3.7.4"
  }
 },
 "nbformat": 4,
 "nbformat_minor": 4
}
