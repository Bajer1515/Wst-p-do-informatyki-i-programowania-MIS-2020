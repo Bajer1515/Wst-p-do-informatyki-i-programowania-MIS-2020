{
 "cells": [
  {
   "cell_type": "markdown",
   "metadata": {},
   "source": [
    "Zad 4\n",
    "\n",
    "Krótkie zadania z krotkami:"
   ]
  },
  {
   "cell_type": "markdown",
   "metadata": {},
   "source": [
    "* Stwórz krotkę jednoelementową. Sprawdź otrzymaną wartość używając funkcji $type()$."
   ]
  },
  {
   "cell_type": "code",
   "execution_count": 56,
   "metadata": {},
   "outputs": [
    {
     "data": {
      "text/plain": [
       "tuple"
      ]
     },
     "execution_count": 56,
     "metadata": {},
     "output_type": "execute_result"
    }
   ],
   "source": [
    "krotka = (\"Adam\",)\n",
    "type(krotka)"
   ]
  },
  {
   "cell_type": "markdown",
   "metadata": {},
   "source": [
    "* Dla zadanej krotki czteroelementowej ($imie$, $drugie imie$, $nazwisko$, $wiek$) wyświetl napis w którym pierwsze i drugie imię zostanie zapisane za pomocą inicjałów."
   ]
  },
  {
   "cell_type": "code",
   "execution_count": 60,
   "metadata": {},
   "outputs": [
    {
     "name": "stdout",
     "output_type": "stream",
     "text": [
      "Student: A. K. Bajerowicz\n",
      "Wiek: 24\n"
     ]
    }
   ],
   "source": [
    "krotka = ('Adam', 'Krystian','Bajerowicz', 24)\n",
    "print('Student: ' + str(krotka[0][0])+'. ' + str(krotka[1][0])+'. '+str(krotka[2]))\n",
    "print('Wiek: '+str(krotka[3]))"
   ]
  },
  {
   "cell_type": "markdown",
   "metadata": {},
   "source": [
    "* Podanego przez uzytkownika $słowo$ zamień na napis, w którym każde dwie litery zostaną przedzielone znakiem $\\$$"
   ]
  },
  {
   "cell_type": "code",
   "execution_count": 80,
   "metadata": {},
   "outputs": [
    {
     "data": {
      "text/plain": [
       "'a$b$r$a$k$a$d$a$b$r$a'"
      ]
     },
     "execution_count": 80,
     "metadata": {},
     "output_type": "execute_result"
    }
   ],
   "source": [
    "slowo = 'abrakadabra'\n",
    "\"$\".join(slowo)"
   ]
  }
 ],
 "metadata": {
  "kernelspec": {
   "display_name": "Python 3",
   "language": "python",
   "name": "python3"
  },
  "language_info": {
   "codemirror_mode": {
    "name": "ipython",
    "version": 3
   },
   "file_extension": ".py",
   "mimetype": "text/x-python",
   "name": "python",
   "nbconvert_exporter": "python",
   "pygments_lexer": "ipython3",
   "version": "3.7.4"
  }
 },
 "nbformat": 4,
 "nbformat_minor": 4
}
