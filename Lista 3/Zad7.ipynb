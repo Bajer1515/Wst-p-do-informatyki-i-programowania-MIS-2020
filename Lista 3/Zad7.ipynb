{
 "cells": [
  {
   "cell_type": "markdown",
   "metadata": {},
   "source": [
    "Zad 7\n",
    "\n",
    "Stwórz skrypt, który po pobraniu wartości typu float, oznaczającej liczbę godzin, zapisze ją w formacie h, m, s. Zastosuj odpowiednie zaokrąglenie. "
   ]
  },
  {
   "cell_type": "code",
   "execution_count": 24,
   "metadata": {},
   "outputs": [],
   "source": [
    "def FloatNaCzas():\n",
    "    t = float(input('Podaj liczbę rzeczywistą do zamiany na czas: '))\n",
    "    CzescDziesietna = round(t - int(t),2)\n",
    "    czas = CzescDziesietna * 3600\n",
    "\n",
    "    godziny = int(t)    \n",
    "    sekundy = int(czas % 60)\n",
    "    minuty = int(czas/60) % 60 \n",
    "    \n",
    "    return godziny, minuty, sekundy"
   ]
  },
  {
   "cell_type": "code",
   "execution_count": 25,
   "metadata": {},
   "outputs": [
    {
     "name": "stdin",
     "output_type": "stream",
     "text": [
      "Podaj liczbę rzeczywistą do zamiany na czas:  1.21\n"
     ]
    },
    {
     "name": "stdout",
     "output_type": "stream",
     "text": [
      "Twój czas to 1 h, 12 m, 36 s\n"
     ]
    }
   ],
   "source": [
    "h,m,s = FloatNaCzas()\n",
    "\n",
    "print(f'Twój czas to {h} h, {m} m, {s} s')"
   ]
  }
 ],
 "metadata": {
  "kernelspec": {
   "display_name": "Python 3",
   "language": "python",
   "name": "python3"
  },
  "language_info": {
   "codemirror_mode": {
    "name": "ipython",
    "version": 3
   },
   "file_extension": ".py",
   "mimetype": "text/x-python",
   "name": "python",
   "nbconvert_exporter": "python",
   "pygments_lexer": "ipython3",
   "version": "3.7.4"
  }
 },
 "nbformat": 4,
 "nbformat_minor": 4
}
