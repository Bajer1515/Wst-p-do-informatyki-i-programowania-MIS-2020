{
 "cells": [
  {
   "cell_type": "markdown",
   "metadata": {},
   "source": [
    "Zad 5\n",
    "\n",
    "Dla podanych przez uzytkownika dwóch liczb całkowitych, $a$ i $b$ stwórz napis, który pokaze jakie działania zostały wykonane oraz wynik tych działań. Uwzględnij następujące działanie: $a + b$, $a − b$, $a ∗ b$, $a/b$ (wynik dzielenia zaokrąglij do dwóch miejsc po przecinku).\n",
    "\n",
    "Uwaga! Do wyświetlenia napisu powinieneś użyć tylko jednego wywołania funkcji $print()$."
   ]
  },
  {
   "cell_type": "code",
   "execution_count": 100,
   "metadata": {},
   "outputs": [
    {
     "name": "stdin",
     "output_type": "stream",
     "text": [
      "Podaj a:  2\n",
      "Podaj b:  3\n"
     ]
    },
    {
     "name": "stdout",
     "output_type": "stream",
     "text": [
      "2 + 3 = 5.000000000000000000000000000000\n",
      "2 - 3 = -1\n",
      "2 * 3 = 6\n",
      "2 / 3 = 0.67\n",
      "\n"
     ]
    }
   ],
   "source": [
    "a = int(input('Podaj a: '))\n",
    "b = int(input('Podaj b: '))\n",
    "\n",
    "dodawanie = a+b\n",
    "odejmowanie = a-b\n",
    "mnozenie = a*b\n",
    "dzielenie = a/b\n",
    "\n",
    "print(f'{a} + {b} = {dodawanie}\\n' \n",
    "      f'{a} - {b} = {odejmowanie}\\n'\n",
    "      f'{a} * {b} = {mnozenie}\\n'\n",
    "      f'{a} / {b} = {dzielenie:.2f}\\n')\n",
    "\n",
    "\n",
    "#print('{A} + {B} = {:.2f}\\n'.format(dodawanie,A=a,B=b)+\n",
    "#       '{} - {} = {:.2f}\\n'.format(a,b,odejmowanie)+\n",
    "#       '{} * {} = {:.2f}\\n'.format(a,b,mnozenie)+\n",
    "#       '{} / {} = {:.2f}'.format(a,b,dzielenie))"
   ]
  }
 ],
 "metadata": {
  "kernelspec": {
   "display_name": "Python 3",
   "language": "python",
   "name": "python3"
  },
  "language_info": {
   "codemirror_mode": {
    "name": "ipython",
    "version": 3
   },
   "file_extension": ".py",
   "mimetype": "text/x-python",
   "name": "python",
   "nbconvert_exporter": "python",
   "pygments_lexer": "ipython3",
   "version": "3.7.4"
  }
 },
 "nbformat": 4,
 "nbformat_minor": 4
}
